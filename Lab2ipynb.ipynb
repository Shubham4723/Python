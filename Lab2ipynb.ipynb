{
  "nbformat": 4,
  "nbformat_minor": 0,
  "metadata": {
    "colab": {
      "name": "Lab2ipynb",
      "provenance": [],
      "authorship_tag": "ABX9TyPkXIWq2L1UsZ6ehyiKbg2I",
      "include_colab_link": true
    },
    "kernelspec": {
      "name": "python3",
      "display_name": "Python 3"
    },
    "language_info": {
      "name": "python"
    }
  },
  "cells": [
    {
      "cell_type": "markdown",
      "metadata": {
        "id": "view-in-github",
        "colab_type": "text"
      },
      "source": [
        "<a href=\"https://colab.research.google.com/github/Shubham4723/Python/blob/main/Lab2ipynb.ipynb\" target=\"_parent\"><img src=\"https://colab.research.google.com/assets/colab-badge.svg\" alt=\"Open In Colab\"/></a>"
      ]
    },
    {
      "cell_type": "code",
      "metadata": {
        "id": "VvWrp9lRGo_I"
      },
      "source": [
        ""
      ],
      "execution_count": null,
      "outputs": []
    },
    {
      "cell_type": "markdown",
      "metadata": {
        "id": "s4Xo5_GmG_Vb"
      },
      "source": [
        "Data types\n"
      ]
    },
    {
      "cell_type": "code",
      "metadata": {
        "colab": {
          "base_uri": "https://localhost:8080/"
        },
        "id": "AW75150YHHeo",
        "outputId": "ae8c39fd-dd09-43b9-ac48-f0e299050c69"
      },
      "source": [
        "a = \"Wakanda Forever\"\n",
        "b = None\n",
        "print(a)\n",
        "print(type(b))"
      ],
      "execution_count": null,
      "outputs": [
        {
          "output_type": "stream",
          "text": [
            "Wakanda Forever\n",
            "<class 'NoneType'>\n"
          ],
          "name": "stdout"
        }
      ]
    },
    {
      "cell_type": "code",
      "metadata": {
        "colab": {
          "base_uri": "https://localhost:8080/"
        },
        "id": "62avtRrRHxI8",
        "outputId": "9a4d1206-5c9a-4553-d881-1e8d7ce27b68"
      },
      "source": [
        "x = 45.708553943329\n",
        "print(type(x))\n"
      ],
      "execution_count": null,
      "outputs": [
        {
          "output_type": "stream",
          "text": [
            "<class 'float'>\n"
          ],
          "name": "stdout"
        }
      ]
    },
    {
      "cell_type": "markdown",
      "metadata": {
        "id": "BqPzYmMWPf9C"
      },
      "source": [
        "AND Gate\n"
      ]
    },
    {
      "cell_type": "code",
      "metadata": {
        "colab": {
          "base_uri": "https://localhost:8080/"
        },
        "id": "c8p5zjQxLU7q",
        "outputId": "ca0138eb-0e83-4b11-b961-0c47cb27175a"
      },
      "source": [
        "x = input(\"Enter 1st input = \")\n",
        "y = input(\"Enter 2nd input = \")\n",
        "print(x and y)"
      ],
      "execution_count": null,
      "outputs": [
        {
          "output_type": "stream",
          "text": [
            "Enter 1st input = True\n",
            "Enter 2nd input = False\n",
            "False\n"
          ],
          "name": "stdout"
        }
      ]
    },
    {
      "cell_type": "markdown",
      "metadata": {
        "id": "5XiSkh8nPYMJ"
      },
      "source": [
        "OR Gate\n"
      ]
    },
    {
      "cell_type": "code",
      "metadata": {
        "colab": {
          "base_uri": "https://localhost:8080/"
        },
        "id": "m0o0m3mxPUCi",
        "outputId": "c8e014cc-9768-41c0-b045-57052fe14eaf"
      },
      "source": [
        "x = input(\"Enter 1st input = \")\n",
        "y = input(\"Enter 2nd input = \")\n",
        "print(x or y)"
      ],
      "execution_count": null,
      "outputs": [
        {
          "output_type": "stream",
          "text": [
            "Enter 1st input = True\n",
            "Enter 2nd input = False\n",
            "True\n"
          ],
          "name": "stdout"
        }
      ]
    },
    {
      "cell_type": "markdown",
      "metadata": {
        "id": "IEb5rMzNPmNS"
      },
      "source": [
        "NOT Gate\n"
      ]
    },
    {
      "cell_type": "code",
      "metadata": {
        "colab": {
          "base_uri": "https://localhost:8080/"
        },
        "id": "7D3eikU3Po6q",
        "outputId": "b9f021c1-5ea9-4d23-d39a-e72006c9a46c"
      },
      "source": [
        "x = input(\"Enter 1 input = \")\n",
        "print(not x)"
      ],
      "execution_count": null,
      "outputs": [
        {
          "output_type": "stream",
          "text": [
            "Enter 1 input = None\n",
            "False\n"
          ],
          "name": "stdout"
        }
      ]
    },
    {
      "cell_type": "markdown",
      "metadata": {
        "id": "MVo8rFQHUX8i"
      },
      "source": [
        "Pattern 1\n"
      ]
    },
    {
      "cell_type": "code",
      "metadata": {
        "colab": {
          "base_uri": "https://localhost:8080/"
        },
        "id": "mBJVs7qwRH9f",
        "outputId": "1e28ad01-acc6-40b0-89be-42b7a36a4c8b"
      },
      "source": [
        "print('''          *\n",
        "          **\n",
        "          ***\n",
        "          ****\n",
        "          ***** ''')\n"
      ],
      "execution_count": null,
      "outputs": [
        {
          "output_type": "stream",
          "text": [
            "          *\n",
            "          **\n",
            "          ***\n",
            "          ****\n",
            "          ***** \n"
          ],
          "name": "stdout"
        }
      ]
    },
    {
      "cell_type": "markdown",
      "metadata": {
        "id": "NDdh9_Q3UcGx"
      },
      "source": [
        "Pattern 2\n"
      ]
    },
    {
      "cell_type": "code",
      "metadata": {
        "colab": {
          "base_uri": "https://localhost:8080/"
        },
        "id": "u1t3MTF2Rln0",
        "outputId": "4a5347ba-980f-4ff8-e7c1-5ead50bc25ee"
      },
      "source": [
        "print('''*****\n",
        "****\n",
        "***\n",
        "**\n",
        "*''')\n",
        "\n"
      ],
      "execution_count": null,
      "outputs": [
        {
          "output_type": "stream",
          "text": [
            "*****\n",
            "****\n",
            "***\n",
            "**\n",
            "*\n"
          ],
          "name": "stdout"
        }
      ]
    },
    {
      "cell_type": "markdown",
      "metadata": {
        "id": "uqs8l2QCUeN5"
      },
      "source": [
        "Pattern 3\n"
      ]
    },
    {
      "cell_type": "code",
      "metadata": {
        "colab": {
          "base_uri": "https://localhost:8080/"
        },
        "id": "rNhdPbyLSHGN",
        "outputId": "d3a71b28-1321-4c1d-c11d-8e826caa48ec"
      },
      "source": [
        "print(\"    *  \\n\")\n",
        "print(\"   * *\\n\")\n",
        "print(\"  * * *\\n\")\n",
        "print(\"* * * * *\\n\")\n",
        "\n"
      ],
      "execution_count": null,
      "outputs": [
        {
          "output_type": "stream",
          "text": [
            "    *  \n",
            "\n",
            "   * *\n",
            "\n",
            "  * * *\n",
            "\n",
            "* * * * *\n",
            "\n"
          ],
          "name": "stdout"
        }
      ]
    },
    {
      "cell_type": "code",
      "metadata": {
        "id": "FehxzRkmZOTl"
      },
      "source": [
        ""
      ],
      "execution_count": null,
      "outputs": []
    }
  ]
}