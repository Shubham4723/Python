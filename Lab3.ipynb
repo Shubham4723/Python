{
  "nbformat": 4,
  "nbformat_minor": 0,
  "metadata": {
    "colab": {
      "name": "Lab3.ipynb",
      "provenance": [],
      "authorship_tag": "ABX9TyMC6AzI+4CiLwdS1R0R55YO",
      "include_colab_link": true
    },
    "kernelspec": {
      "name": "python3",
      "display_name": "Python 3"
    },
    "language_info": {
      "name": "python"
    }
  },
  "cells": [
    {
      "cell_type": "markdown",
      "metadata": {
        "id": "view-in-github",
        "colab_type": "text"
      },
      "source": [
        "<a href=\"https://colab.research.google.com/github/Shubham4723/Python/blob/main/Lab3.ipynb\" target=\"_parent\"><img src=\"https://colab.research.google.com/assets/colab-badge.svg\" alt=\"Open In Colab\"/></a>"
      ]
    },
    {
      "cell_type": "markdown",
      "metadata": {
        "id": "yj9Bncl5NbNV"
      },
      "source": [
        "Assignment 2"
      ]
    },
    {
      "cell_type": "markdown",
      "metadata": {
        "id": "v5L2xi8XWgLn"
      },
      "source": [
        "Q.1) Write a python program to find the area and circumference of a circle according to the given radius value."
      ]
    },
    {
      "cell_type": "code",
      "metadata": {
        "colab": {
          "base_uri": "https://localhost:8080/"
        },
        "id": "srpFM-ivWfBT",
        "outputId": "3c1de919-5dce-456f-b751-6879bfcaa2f4"
      },
      "source": [
        "r = input(\" Enter radius = \")\n",
        "r = int(r)\n",
        "c = (2*22*r)/7\n",
        "a = (22*r*r)/7\n",
        "print(\" Circumference = \",c)\n",
        "print(\" Area = \",a)"
      ],
      "execution_count": null,
      "outputs": [
        {
          "output_type": "stream",
          "text": [
            " Enter radius = 7\n",
            " Circumference =  44.0\n",
            " Area =  154.0\n"
          ],
          "name": "stdout"
        }
      ]
    },
    {
      "cell_type": "markdown",
      "metadata": {
        "id": "i8lbKVsHZdh3"
      },
      "source": [
        "Q.2) Write a python program to calculate the simple interest of the given P,T,R."
      ]
    },
    {
      "cell_type": "code",
      "metadata": {
        "colab": {
          "base_uri": "https://localhost:8080/"
        },
        "id": "2IFCvn97OZ3N",
        "outputId": "6464dc37-9be5-4fa4-d094-ea7f25348d79"
      },
      "source": [
        "p = input(\" Enter principal = \")\n",
        "p = int(p)\n",
        "t = int(input(\" Enter time = \"))\n",
        "#t = int(t)\n",
        "r = input(\" Enter rate of interest = \")\n",
        "r = int(r)\n",
        "\n",
        "i = (p*t*r)/100\n",
        "\n",
        "print(\" Interest = \",i)"
      ],
      "execution_count": null,
      "outputs": [
        {
          "output_type": "stream",
          "text": [
            " Enter principal = 10\n",
            " Enter time = 2\n",
            " Enter rate of interest = 5\n",
            " Interest =  1.0\n"
          ],
          "name": "stdout"
        }
      ]
    },
    {
      "cell_type": "markdown",
      "metadata": {
        "id": "j76wiZNzVvRp"
      },
      "source": [
        "Q.3) Write a python program to input a 3-digits number and display its 1st and last digit."
      ]
    },
    {
      "cell_type": "code",
      "metadata": {
        "colab": {
          "base_uri": "https://localhost:8080/"
        },
        "id": "zI4kL9XIO73H",
        "outputId": "77f02efc-4522-44a5-8116-7e283104ab02"
      },
      "source": [
        "a = input(\" Enter a 3 digit no = \")\n",
        "a = int(a)\n",
        "first = a/100\n",
        "first = int(first)\n",
        "last = a%10\n",
        "last = int(last)\n",
        "print(\" First digit = \",first)\n",
        "print(\" Last digit = \",last)\n"
      ],
      "execution_count": null,
      "outputs": [
        {
          "output_type": "stream",
          "text": [
            " Enter a 3 digit no = 123\n",
            " First digit =  1\n",
            " Last digit =  3\n"
          ],
          "name": "stdout"
        }
      ]
    },
    {
      "cell_type": "markdown",
      "metadata": {
        "id": "I4U8Mmm7Vwop"
      },
      "source": [
        "Q.5) Write a python program to input a 3-digits number, then find and display its reverse (using operators)."
      ]
    },
    {
      "cell_type": "code",
      "metadata": {
        "colab": {
          "base_uri": "https://localhost:8080/"
        },
        "id": "kK0uxLE2Pn-P",
        "outputId": "a9a125eb-6999-4c6a-a06a-fb3403ef90c9"
      },
      "source": [
        "a = input(\" Enter a 2 digit no = \")\n",
        "a = int(a)\n",
        "first = a/100\n",
        "first = int(first)\n",
        "last = a%10\n",
        "last = int(last)\n",
        "r = a/10\n",
        "r = int(r)\n",
        "middle = r%10\n",
        "middle = int(middle)\n",
        "rev = (100*last)+(10*middle)+first\n",
        "print(\" Reverse of the no = \",rev)\n",
        "#print(\" First digit = \",first)\n",
        "#print(\" Last digit = \",last)\n"
      ],
      "execution_count": null,
      "outputs": [
        {
          "output_type": "stream",
          "text": [
            " Enter a 2 digit no = 123\n",
            " Reverse of the no =  321\n"
          ],
          "name": "stdout"
        }
      ]
    },
    {
      "cell_type": "markdown",
      "metadata": {
        "id": "PlDlXtbRWQdB"
      },
      "source": [
        "Q.4) Write a python program to input a value as seconds and convert it into hour, minute and seconds (using operators)."
      ]
    },
    {
      "cell_type": "code",
      "metadata": {
        "colab": {
          "base_uri": "https://localhost:8080/"
        },
        "id": "lR9lBKK-RqT-",
        "outputId": "1e12a0e0-002a-45be-82c9-a2997d1176ff"
      },
      "source": [
        "s = input(\" Enter time in seconds = \")\n",
        "s = int(s)\n",
        "hr = s/3600\n",
        "hr = int(hr)\n",
        "x = s%3600\n",
        "min = x/60\n",
        "min = int(min)\n",
        "sec = x%60\n",
        "print(\" Hours = \",hr)\n",
        "print(\" Minutes = \",min)\n",
        "print(\" Seconds = \",sec)"
      ],
      "execution_count": null,
      "outputs": [
        {
          "output_type": "stream",
          "text": [
            " Enter time in seconds = 678\n",
            " Hours =  0\n",
            " Minutes =  11\n",
            " Seconds =  18\n"
          ],
          "name": "stdout"
        }
      ]
    },
    {
      "cell_type": "markdown",
      "metadata": {
        "id": "attD1DUcWWIZ"
      },
      "source": [
        "Q.6) Write a python program to input two numbers, and check both are equal or not using comparison operator."
      ]
    },
    {
      "cell_type": "code",
      "metadata": {
        "colab": {
          "base_uri": "https://localhost:8080/"
        },
        "id": "ej0v_eC-Tz6N",
        "outputId": "c3202abc-272d-4dda-c9cb-fb8462031a40"
      },
      "source": [
        "a = input(\" Enter 1st no = \")\n",
        "b = input(\" Enter 2nd no = \")\n",
        "c = (a==b)\n",
        "print(c)"
      ],
      "execution_count": null,
      "outputs": [
        {
          "output_type": "stream",
          "text": [
            " Enter 1st no = 2\n",
            " Enter 2nd no = 2\n",
            "True\n"
          ],
          "name": "stdout"
        }
      ]
    },
    {
      "cell_type": "markdown",
      "metadata": {
        "id": "MZwTRCrDWYdx"
      },
      "source": [
        "Q.7) Write a python program to input two numbers and find the biggest one (using operators)."
      ]
    },
    {
      "cell_type": "code",
      "metadata": {
        "colab": {
          "base_uri": "https://localhost:8080/"
        },
        "id": "6zfrpkQxUV5O",
        "outputId": "cbe78a60-0a8f-447c-abeb-4253ff67ad1f"
      },
      "source": [
        "\n",
        "a = input(\" Enter 1st no = \")\n",
        "b = input(\" Enter 2nd no = \")\n",
        "a = int(a)\n",
        "b = int(b)\n",
        "max = (a*(bool)(a//b)+b*(bool)(b//a))\n",
        "print(\" Biggest no = \",max)"
      ],
      "execution_count": null,
      "outputs": [
        {
          "output_type": "stream",
          "text": [
            " Enter 1st no = 1\n",
            " Enter 2nd no = 2\n",
            " Biggest no =  2\n"
          ],
          "name": "stdout"
        }
      ]
    },
    {
      "cell_type": "markdown",
      "metadata": {
        "id": "IK8OtwVphUTb"
      },
      "source": [
        "Q.8) Write a python program to input three numbers as a,b,c, then display 1 if those are sides of a triangle otherwise display 0 on the screen (using operators)."
      ]
    },
    {
      "cell_type": "code",
      "metadata": {
        "colab": {
          "base_uri": "https://localhost:8080/"
        },
        "id": "0FJkp-12Uqtz",
        "outputId": "66de3805-b8bd-4495-9ae6-b2a749a49942"
      },
      "source": [
        "a = input(\" Enter 1st side = \")\n",
        "b = input(\" Enter 2nd side = \")\n",
        "c = input(\" Enter 3rd side = \")\n",
        "a = int(a)\n",
        "b = int(b)\n",
        "c = int(c)\n",
        "#d = ((a+b)>c)\n",
        "#e = ((a+c)>b)\n",
        "#f = ((b+c)>a)\n",
        "#10x = (d==e==f)\n",
        "x = (((a+b)>c)==((a+c)>b)==((b+c)>a))\n",
        "#print(d)\n",
        "#print(e)\n",
        "#print(f)\n",
        "print(int(x))\n"
      ],
      "execution_count": null,
      "outputs": [
        {
          "output_type": "stream",
          "text": [
            " Enter 1st side = 7\n",
            " Enter 2nd side = 10\n",
            " Enter 3rd side = 5\n",
            "1\n"
          ],
          "name": "stdout"
        }
      ]
    },
    {
      "cell_type": "code",
      "metadata": {
        "id": "EarVqvPtYqD9"
      },
      "source": [
        ""
      ],
      "execution_count": null,
      "outputs": []
    }
  ]
}