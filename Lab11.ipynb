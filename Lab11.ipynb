{
  "nbformat": 4,
  "nbformat_minor": 0,
  "metadata": {
    "colab": {
      "name": "Lab11",
      "provenance": [],
      "authorship_tag": "ABX9TyOZgrBvmrOxj2t8OmH63wjH",
      "include_colab_link": true
    },
    "kernelspec": {
      "name": "python3",
      "display_name": "Python 3"
    },
    "language_info": {
      "name": "python"
    }
  },
  "cells": [
    {
      "cell_type": "markdown",
      "metadata": {
        "id": "view-in-github",
        "colab_type": "text"
      },
      "source": [
        "<a href=\"https://colab.research.google.com/github/Shubham4723/Python/blob/main/Lab11.ipynb\" target=\"_parent\"><img src=\"https://colab.research.google.com/assets/colab-badge.svg\" alt=\"Open In Colab\"/></a>"
      ]
    },
    {
      "cell_type": "markdown",
      "metadata": {
        "id": "eVZ34-mJzfLt"
      },
      "source": [
        "Q.1) Write a python program to replace “is” with “was”, where the string is “India is Great Country, where BBSR is the beautiful city”."
      ]
    },
    {
      "cell_type": "code",
      "metadata": {
        "colab": {
          "base_uri": "https://localhost:8080/"
        },
        "id": "R548HqUxzYt0",
        "outputId": "ae14444d-98ca-485a-c8aa-a7f6207247ce"
      },
      "source": [
        "s1 = input(\" Enter a sentence = \")\n",
        "x = input(\" Enter the word to be replaced = \")\n",
        "y = input(\" Enter the word that will replace the existing word = \")\n",
        "s2 = s1.replace(x, y)\n",
        "print(\" Old sentence = \", s1)\n",
        "print(\" New sentence = \", s2)"
      ],
      "execution_count": null,
      "outputs": [
        {
          "output_type": "stream",
          "name": "stdout",
          "text": [
            " Enter a sentence = India is Great Country, where BBSR is the beautiful city\n",
            " Enter the word to be replaced = is\n",
            " Enter the word that will replace the existing word = was\n",
            " Old sentence =  India is Great Country, where BBSR is the beautiful city\n",
            " New sentence =  India was Great Country, where BBSR was the beautiful city\n"
          ]
        }
      ]
    },
    {
      "cell_type": "markdown",
      "metadata": {
        "id": "UnF0N88-1GNr"
      },
      "source": [
        "Q.2) Write a python program to find ‘a’ to the power ‘b’ using recursive function, where b can be either ‘+ve’ or ‘-ve’."
      ]
    },
    {
      "cell_type": "code",
      "metadata": {
        "colab": {
          "base_uri": "https://localhost:8080/"
        },
        "id": "SHpVl09801jt",
        "outputId": "18ca6b70-3733-4fc8-dba7-1c04fb379e84"
      },
      "source": [
        "def up(x, y):\n",
        "  if y==0:\n",
        "    return 1\n",
        "  return x*p(x, y-1)\n",
        "\n",
        "def p(x, y):\n",
        "  f = False\n",
        "  if y<0:\n",
        "    f = True\n",
        "    y = y*-1\n",
        "  r = up(x, y)\n",
        "  if f != True:\n",
        "    return r\n",
        "  else:\n",
        "    return 1/r\n",
        "\n",
        "a = int(input(\" Enter 1st no = \"))\n",
        "b = int(input(\" Enter 2nd no = \"))\n",
        "\n",
        "print(\" Output = \", p(a, b))\n",
        "\n"
      ],
      "execution_count": null,
      "outputs": [
        {
          "output_type": "stream",
          "name": "stdout",
          "text": [
            " Enter 1st no = 2\n",
            " Enter 2nd no = -2\n",
            " Output =  0.25\n"
          ]
        }
      ]
    },
    {
      "cell_type": "markdown",
      "metadata": {
        "id": "scQGfCor4yoU"
      },
      "source": [
        "Q.3) Write a python program to find ‘nth’ term of the Fibonacci series using user-defined function."
      ]
    },
    {
      "cell_type": "code",
      "metadata": {
        "colab": {
          "base_uri": "https://localhost:8080/"
        },
        "id": "TXdv9A0Z1ejl",
        "outputId": "bacf6931-0095-4c19-c584-533fb7dd321e"
      },
      "source": [
        "def Fib(a):\n",
        "   \n",
        "    if a < 0:\n",
        "        print(\"Incorrect input\")\n",
        " \n",
        "   \n",
        "    elif a == 0:\n",
        "        return 0\n",
        " \n",
        "   \n",
        "    elif a == 1 or a == 2:\n",
        "        return 1\n",
        " \n",
        "    else:\n",
        "        return Fib(a-1) + Fib(a-2)\n",
        " \n",
        "n = int(input(\" Enter value of n = \"))\n",
        "print(\" Output = \", Fib(n))\n",
        "   \n"
      ],
      "execution_count": null,
      "outputs": [
        {
          "output_type": "stream",
          "name": "stdout",
          "text": [
            " Enter value of n = 9\n",
            " Output =  34\n"
          ]
        }
      ]
    },
    {
      "cell_type": "markdown",
      "metadata": {
        "id": "yOKXacIh6H0k"
      },
      "source": [
        "Q.4) Write a python program to covert a decimal number to binary number using recursion."
      ]
    },
    {
      "cell_type": "code",
      "metadata": {
        "colab": {
          "base_uri": "https://localhost:8080/"
        },
        "id": "E75Myvbo5-U5",
        "outputId": "c3b906f7-2cf0-4bf9-d114-2e387620a7fb"
      },
      "source": [
        "def binary(n):\n",
        "  \n",
        "   if n > 1:\n",
        "       binary(n//2)\n",
        "   print(n % 2,end = '')\n",
        " \n",
        "\n",
        "dec = int(input(\"Enter an integer: \"))\n",
        "binary(dec)"
      ],
      "execution_count": null,
      "outputs": [
        {
          "output_type": "stream",
          "name": "stdout",
          "text": [
            "Enter an integer: 53\n",
            "110101"
          ]
        }
      ]
    },
    {
      "cell_type": "markdown",
      "metadata": {
        "id": "h2WS40UJ62Gc"
      },
      "source": [
        "Q.5) Write a Python program to sort a list of tuples using Lambda.\n",
        "List of tuples:\n",
        "[('English', 88), ('Science', 90), ('Maths', 97), ('Social sciences', 82)]"
      ]
    },
    {
      "cell_type": "code",
      "metadata": {
        "colab": {
          "base_uri": "https://localhost:8080/"
        },
        "id": "2Z7A8mvr78Cj",
        "outputId": "17cc84e6-8dde-4d40-ea04-5d786734fa9d"
      },
      "source": [
        "marks = [('English', 88), ('Science', 90), ('Maths', 97), ('Social sciences', 82)]\n",
        "print(\"Original list of tuples:\")\n",
        "print(marks)\n",
        "marks.sort(key = lambda x: x[1])\n",
        "print(\"\\nSorting the List of Tuples:\")\n",
        "print(marks)"
      ],
      "execution_count": null,
      "outputs": [
        {
          "output_type": "stream",
          "name": "stdout",
          "text": [
            "Original list of tuples:\n",
            "[('English', 88), ('Science', 90), ('Maths', 97), ('Social sciences', 82)]\n",
            "\n",
            "Sorting the List of Tuples:\n",
            "[('Social sciences', 82), ('English', 88), ('Science', 90), ('Maths', 97)]\n"
          ]
        }
      ]
    },
    {
      "cell_type": "markdown",
      "metadata": {
        "id": "nXo3-BJm8KVj"
      },
      "source": [
        "Q.6) Write a Python program to square and cube every number in a given list of integers using Lambda.\n",
        "Original list of integers: [7, 2, 6, 1, 3, 8, 5, 6, 11, 9]"
      ]
    },
    {
      "cell_type": "code",
      "metadata": {
        "colab": {
          "base_uri": "https://localhost:8080/"
        },
        "id": "IDJVOJRc8EsU",
        "outputId": "9216b8cf-a397-4d89-c582-bb9e0a462a46"
      },
      "source": [
        "n = [7, 2, 6, 1, 3, 8, 5, 6, 11, 9]\n",
        "print(\"Original list of integers:\")\n",
        "print(n)\n",
        "print(\"\\nSquare every number of the said list:\")\n",
        "s = list(map(lambda x: x ** 2, n))\n",
        "print(s)\n",
        "print(\"\\nCube every number of the said list:\")\n",
        "c = list(map(lambda x: x ** 3, n))\n",
        "print(c)"
      ],
      "execution_count": null,
      "outputs": [
        {
          "output_type": "stream",
          "name": "stdout",
          "text": [
            "Original list of integers:\n",
            "[7, 2, 6, 1, 3, 8, 5, 6, 11, 9]\n",
            "\n",
            "Square every number of the said list:\n",
            "[49, 4, 36, 1, 9, 64, 25, 36, 121, 81]\n",
            "\n",
            "Cube every number of the said list:\n",
            "[343, 8, 216, 1, 27, 512, 125, 216, 1331, 729]\n"
          ]
        }
      ]
    },
    {
      "cell_type": "markdown",
      "metadata": {
        "id": "RMY-wOlA-X4C"
      },
      "source": [
        "Q.7) Write python program to check the given string is palindrome string or not using user-defined function."
      ]
    },
    {
      "cell_type": "code",
      "metadata": {
        "colab": {
          "base_uri": "https://localhost:8080/"
        },
        "id": "kpJ19ZHs9gid",
        "outputId": "7c836650-a8a2-463c-f8cd-2e60ff87ed81"
      },
      "source": [
        "def isPalindrome(s):\n",
        "       \n",
        "    \n",
        "    s = s.lower()\n",
        "    \n",
        "    l = len(s)\n",
        "     \n",
        "    \n",
        "    if l < 2:\n",
        "        return True\n",
        " \n",
        "    \n",
        "    elif s[0] == s[l - 1]:\n",
        "        \n",
        "        \n",
        "        return isPalindrome(s[1: l - 1])\n",
        " \n",
        "    else:\n",
        "        return False\n",
        " \n",
        "\n",
        "s = input(\" Enter a string = \")\n",
        "ans = isPalindrome(s)\n",
        " \n",
        "if ans:\n",
        "    print(\"Yes\")\n",
        " \n",
        "else:\n",
        "    print(\"No\")"
      ],
      "execution_count": null,
      "outputs": [
        {
          "output_type": "stream",
          "name": "stdout",
          "text": [
            " Enter a string = malayalam\n",
            "Yes\n"
          ]
        }
      ]
    },
    {
      "cell_type": "markdown",
      "metadata": {
        "id": "dyv_jmKp_iES"
      },
      "source": [
        "Q.8) Write a python program to print the number series as follows using recursion:\n",
        "  1, 2, 3, ……N"
      ]
    },
    {
      "cell_type": "code",
      "metadata": {
        "colab": {
          "base_uri": "https://localhost:8080/"
        },
        "id": "1wWZ_gfe_Ywt",
        "outputId": "d8443fc7-79b0-4b4b-e5b6-47c0fdfdb55b"
      },
      "source": [
        "def countdown(n):\n",
        "    if n > 0:\n",
        "        countdown(n-1)\n",
        "    print(n)\n",
        "\n",
        "n=int(input('Enter a no = '))\n",
        "countdown(n)"
      ],
      "execution_count": null,
      "outputs": [
        {
          "output_type": "stream",
          "name": "stdout",
          "text": [
            "Enter a no = 6\n",
            "0\n",
            "1\n",
            "2\n",
            "3\n",
            "4\n",
            "5\n",
            "6\n"
          ]
        }
      ]
    },
    {
      "cell_type": "code",
      "metadata": {
        "id": "kzN66rE4_11Q"
      },
      "source": [
        ""
      ],
      "execution_count": null,
      "outputs": []
    }
  ]
}