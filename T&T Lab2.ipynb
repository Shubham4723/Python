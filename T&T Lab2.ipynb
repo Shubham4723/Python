{
 "cells": [
  {
   "cell_type": "code",
   "execution_count": 4,
   "id": "08a56b45",
   "metadata": {},
   "outputs": [],
   "source": [
    "#LIST"
   ]
  },
  {
   "cell_type": "code",
   "execution_count": 3,
   "id": "0b3eea0f",
   "metadata": {},
   "outputs": [
    {
     "name": "stdout",
     "output_type": "stream",
     "text": [
      "['car', 'bus', 'truck', 'boat', 'bike', 'cycle']\n"
     ]
    }
   ],
   "source": [
    "list1 = [\"car\",\"bus\",\"truck\"]\n",
    "touple1=(\"boat\",\"bike\",\"cycle\")\n",
    "list1.extend(touple1)\n",
    "print(list1)"
   ]
  },
  {
   "cell_type": "code",
   "execution_count": 5,
   "id": "6f254355",
   "metadata": {},
   "outputs": [
    {
     "name": "stdout",
     "output_type": "stream",
     "text": [
      "['car', 'truck']\n"
     ]
    }
   ],
   "source": [
    "list1 = [\"car\",\"bus\",\"truck\"]\n",
    "list1.remove(\"bus\")\n",
    "print(list1)"
   ]
  },
  {
   "cell_type": "code",
   "execution_count": 6,
   "id": "58387778",
   "metadata": {},
   "outputs": [
    {
     "name": "stdout",
     "output_type": "stream",
     "text": [
      "['car', 'bus']\n"
     ]
    }
   ],
   "source": [
    "list1 = [\"car\",\"bus\",\"truck\"]\n",
    "list1.pop()\n",
    "print(list1)"
   ]
  },
  {
   "cell_type": "code",
   "execution_count": 7,
   "id": "80c338c4",
   "metadata": {},
   "outputs": [
    {
     "name": "stdout",
     "output_type": "stream",
     "text": [
      "[]\n"
     ]
    }
   ],
   "source": [
    "list1 = [\"car\",\"bus\",\"truck\"]\n",
    "list1.clear()\n",
    "print(list1)"
   ]
  },
  {
   "cell_type": "code",
   "execution_count": 8,
   "id": "8e6789d3",
   "metadata": {},
   "outputs": [
    {
     "name": "stdout",
     "output_type": "stream",
     "text": [
      "car\n",
      "bus\n",
      "truck\n"
     ]
    },
    {
     "data": {
      "text/plain": [
       "[None, None, None]"
      ]
     },
     "execution_count": 8,
     "metadata": {},
     "output_type": "execute_result"
    }
   ],
   "source": [
    "list1 = [\"car\",\"bus\",\"truck\"]\n",
    "[print(x) for x in list1]"
   ]
  },
  {
   "cell_type": "code",
   "execution_count": 9,
   "id": "ddab7cf7",
   "metadata": {},
   "outputs": [
    {
     "name": "stdout",
     "output_type": "stream",
     "text": [
      "['truck', 'bus', 'car']\n"
     ]
    }
   ],
   "source": [
    "list1 = [\"car\",\"bus\",\"truck\"]\n",
    "list1.reverse()\n",
    "print(list1)"
   ]
  },
  {
   "cell_type": "code",
   "execution_count": 10,
   "id": "62c84814",
   "metadata": {},
   "outputs": [
    {
     "name": "stdout",
     "output_type": "stream",
     "text": [
      "['car', 'bus', 'truck']\n"
     ]
    }
   ],
   "source": [
    "list1 = [\"car\",\"bus\",\"truck\"]\n",
    "list2=list1\n",
    "print(list2)"
   ]
  },
  {
   "cell_type": "code",
   "execution_count": 11,
   "id": "93a3d6d3",
   "metadata": {},
   "outputs": [
    {
     "name": "stdout",
     "output_type": "stream",
     "text": [
      "3\n"
     ]
    }
   ],
   "source": [
    "list1 = [\"car\",\"bus\",\"truck\"]\n",
    "print(len(list1))"
   ]
  },
  {
   "cell_type": "code",
   "execution_count": 12,
   "id": "297968b6",
   "metadata": {},
   "outputs": [
    {
     "name": "stdout",
     "output_type": "stream",
     "text": [
      "['truck', 'boat']\n"
     ]
    }
   ],
   "source": [
    "list1 = [\"car\",\"bus\",\"truck\",\"boat\",\"bike\",\"cycle\"]\n",
    "list2=list1[-4:-2]\n",
    "print(list2)"
   ]
  },
  {
   "cell_type": "code",
   "execution_count": 2,
   "id": "946600c4",
   "metadata": {},
   "outputs": [
    {
     "name": "stdout",
     "output_type": "stream",
     "text": [
      "[10, 23, 44, 50, 59, 67, 88]\n",
      "88\n"
     ]
    }
   ],
   "source": [
    "List2 = [10, 44, 23, 67, 59, 88, 50]\n",
    "List2.sort()\n",
    "print(List2)\n",
    "print(List2[-1])"
   ]
  },
  {
   "cell_type": "code",
   "execution_count": 3,
   "id": "9af59a13",
   "metadata": {},
   "outputs": [
    {
     "name": "stdout",
     "output_type": "stream",
     "text": [
      "341\n"
     ]
    }
   ],
   "source": [
    "print(sum(List2))"
   ]
  },
  {
   "cell_type": "code",
   "execution_count": 5,
   "id": "a4238509",
   "metadata": {},
   "outputs": [
    {
     "name": "stdout",
     "output_type": "stream",
     "text": [
      "Enter number1: 20\n",
      "Enter number2: 10\n",
      "[10, 20, 30, 40, 50, 60, 70]\n",
      "[]\n",
      "[]\n"
     ]
    }
   ],
   "source": [
    "n1 = int(input(\"Enter number1: \"))\n",
    "n2 = int(input(\"Enter number2: \"))\n",
    "List5 = [10, 20, 30, 40, 50, 60, 70]\n",
    "l1 = List5[:n1]\n",
    "l2 = List5[n1:n2]\n",
    "l3 = List5[n2:]\n",
    "print(l1)\n",
    "print(l2)\n",
    "print(l3)"
   ]
  },
  {
   "cell_type": "code",
   "execution_count": 6,
   "id": "de8fd693",
   "metadata": {},
   "outputs": [
    {
     "name": "stdout",
     "output_type": "stream",
     "text": [
      "[90, 78, 56, 50, 45, 42, 22, 12]\n"
     ]
    }
   ],
   "source": [
    "List3 = [12, 45, 56, 78, 22, 42, 90, 50]\n",
    "List3.sort()\n",
    "List3.reverse()\n",
    "print(List3)"
   ]
  },
  {
   "cell_type": "code",
   "execution_count": 7,
   "id": "bac863d0",
   "metadata": {},
   "outputs": [
    {
     "name": "stdout",
     "output_type": "stream",
     "text": [
      "[10, 20, 30, 40, 50, 60]\n"
     ]
    }
   ],
   "source": [
    "List4 = [10, 20, 30]\n",
    "List5 = [40, 50, 60]\n",
    "print(List4 + List5)"
   ]
  },
  {
   "cell_type": "code",
   "execution_count": 8,
   "id": "d6c3f345",
   "metadata": {},
   "outputs": [
    {
     "name": "stdout",
     "output_type": "stream",
     "text": [
      "('Fish', 'Elephant', 'Dog', 'Cat', 'Ball', 'Apple')\n"
     ]
    }
   ],
   "source": [
    "Tuple1 = 'Apple', 'Ball', 'Cat', 'Dog', 'Elephant', 'Fish'\n",
    "print(tuple(reversed(Tuple1)))"
   ]
  },
  {
   "cell_type": "code",
   "execution_count": 10,
   "id": "422ff2c3",
   "metadata": {},
   "outputs": [
    {
     "name": "stdout",
     "output_type": "stream",
     "text": [
      "<class 'tuple'>\n",
      "<class 'str'>\n",
      "RAJU\n",
      "Raja\n"
     ]
    }
   ],
   "source": [
    "Tuple2 = 'R', 'A', 'J', 'U'\n",
    "print(type(Tuple2))\n",
    "str = ''.join(Tuple2)\n",
    "print(type(str))\n",
    "print(str)\n",
    "st1 = \"Raja\"\n",
    "print(st1)"
   ]
  },
  {
   "cell_type": "code",
   "execution_count": 14,
   "id": "8f90ee75",
   "metadata": {},
   "outputs": [
    {
     "name": "stdout",
     "output_type": "stream",
     "text": [
      "[1, 2, 3, 4, 5]\n"
     ]
    }
   ],
   "source": [
    "list2 = [1, 1, 2, 2, 3, 3, 4, 4, 5, 5]\n",
    "list3 = list()\n",
    "for i in list2:\n",
    "  if i not in list3:\n",
    "    list3.append(i)\n",
    "print(list3)"
   ]
  },
  {
   "cell_type": "code",
   "execution_count": 15,
   "id": "be3ca764",
   "metadata": {},
   "outputs": [
    {
     "name": "stdout",
     "output_type": "stream",
     "text": [
      "15\n"
     ]
    }
   ],
   "source": [
    "sum = 0\n",
    "for i in list3:\n",
    "  sum = sum + i\n",
    "print(sum)"
   ]
  },
  {
   "cell_type": "code",
   "execution_count": 16,
   "id": "b7ee6242",
   "metadata": {},
   "outputs": [
    {
     "name": "stdout",
     "output_type": "stream",
     "text": [
      "<class 'set'>\n",
      "{333, 339, 341, 342, 343}\n"
     ]
    }
   ],
   "source": [
    "Set1 = set()\n",
    "print(type(Set1))\n",
    "Set1.add(343)\n",
    "Set1.add(342)\n",
    "Set1.add(341)\n",
    "Set1.add(339)\n",
    "Set1.add(333)\n",
    "Set1.add(343)\n",
    "print(Set1)"
   ]
  },
  {
   "cell_type": "code",
   "execution_count": 17,
   "id": "502da900",
   "metadata": {},
   "outputs": [
    {
     "name": "stdout",
     "output_type": "stream",
     "text": [
      "{333, (123, 456, 789), 339, 341, 342, 343}\n",
      "{333, (123, 456, 789), 339, 341, 343}\n"
     ]
    }
   ],
   "source": [
    "Set1.add((123, 456, 789))\n",
    "print(Set1)\n",
    "Set1.remove(342)\n",
    "print(Set1)"
   ]
  },
  {
   "cell_type": "code",
   "execution_count": 18,
   "id": "6d001174",
   "metadata": {},
   "outputs": [
    {
     "name": "stdout",
     "output_type": "stream",
     "text": [
      "{339, 341, (123, 456, 789), 343, 333, 222, 111}\n"
     ]
    }
   ],
   "source": [
    "Set2 = set()\n",
    "Set2.add(111)\n",
    "Set2.add(222)\n",
    "Set2.add(333)\n",
    "\n",
    "Set3 = set()\n",
    "Set3 = Set1.union(Set2)\n",
    "print(Set3)"
   ]
  },
  {
   "cell_type": "code",
   "execution_count": 19,
   "id": "15dd247a",
   "metadata": {},
   "outputs": [
    {
     "name": "stdout",
     "output_type": "stream",
     "text": [
      "True\n"
     ]
    }
   ],
   "source": [
    "print(Set2.issubset(Set3))"
   ]
  },
  {
   "cell_type": "code",
   "execution_count": null,
   "id": "4536e5da",
   "metadata": {},
   "outputs": [],
   "source": []
  }
 ],
 "metadata": {
  "kernelspec": {
   "display_name": "Python 3",
   "language": "python",
   "name": "python3"
  },
  "language_info": {
   "codemirror_mode": {
    "name": "ipython",
    "version": 3
   },
   "file_extension": ".py",
   "mimetype": "text/x-python",
   "name": "python",
   "nbconvert_exporter": "python",
   "pygments_lexer": "ipython3",
   "version": "3.8.8"
  }
 },
 "nbformat": 4,
 "nbformat_minor": 5
}
