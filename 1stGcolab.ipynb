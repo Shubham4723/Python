{
  "nbformat": 4,
  "nbformat_minor": 0,
  "metadata": {
    "colab": {
      "name": "1stGcolab.ipynb",
      "provenance": [],
      "authorship_tag": "ABX9TyNh0oFjHO4F+SWu5c6/afs3",
      "include_colab_link": true
    },
    "kernelspec": {
      "name": "python3",
      "display_name": "Python 3"
    },
    "language_info": {
      "name": "python"
    }
  },
  "cells": [
    {
      "cell_type": "markdown",
      "metadata": {
        "id": "view-in-github",
        "colab_type": "text"
      },
      "source": [
        "<a href=\"https://colab.research.google.com/github/Shubham4723/Python/blob/main/1stGcolab.ipynb\" target=\"_parent\"><img src=\"https://colab.research.google.com/assets/colab-badge.svg\" alt=\"Open In Colab\"/></a>"
      ]
    },
    {
      "cell_type": "code",
      "metadata": {
        "colab": {
          "base_uri": "https://localhost:8080/"
        },
        "id": "K4hn2MuMhE2G",
        "outputId": "83978bd8-1a68-45bc-c1b2-f94307313095"
      },
      "source": [
        "import re\n",
        "\n",
        "txt = \"Links to begln 12 and Lemura * \"\n",
        "x = re.findall(\"\\*\",txt)\n",
        "print(x)"
      ],
      "execution_count": null,
      "outputs": [
        {
          "output_type": "stream",
          "text": [
            "['*']\n"
          ],
          "name": "stdout"
        }
      ]
    }
  ]
}