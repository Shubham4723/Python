{
 "cells": [
  {
   "cell_type": "code",
   "execution_count": 3,
   "id": "a582aac6",
   "metadata": {},
   "outputs": [
    {
     "name": "stdout",
     "output_type": "stream",
     "text": [
      " Enter the value of n = 10\n",
      "10 th no in fibonacci series =  34\n"
     ]
    }
   ],
   "source": [
    "n = int(input(\" Enter the value of n = \"))\n",
    "a = 0\n",
    "b = 1\n",
    "c = 0\n",
    "\n",
    "for i in range(1,n-1):\n",
    "    c = a + b\n",
    "    a = b\n",
    "    b = c\n",
    "    \n",
    "print(n,\"th no in fibonacci series = \", c)\n",
    "    \n",
    "\n",
    "    "
   ]
  },
  {
   "cell_type": "code",
   "execution_count": 10,
   "id": "cbd2a49d",
   "metadata": {},
   "outputs": [
    {
     "name": "stdout",
     "output_type": "stream",
     "text": [
      " Enter a decimal number =  35\n",
      "100011"
     ]
    }
   ],
   "source": [
    "def convert(a):\n",
    "    \n",
    "    if a>1:\n",
    "        convert(a//2)\n",
    "    print(a%2, end='')\n",
    "\n",
    "\n",
    "n = int(input(\" Enter a decimal number =  \"))\n",
    "\n",
    "convert(n)"
   ]
  },
  {
   "cell_type": "code",
   "execution_count": 17,
   "id": "a5071875",
   "metadata": {},
   "outputs": [
    {
     "name": "stdout",
     "output_type": "stream",
     "text": [
      " Enter a string = Newyear2022%$#\n",
      " The string =  Newyear2022%$#\n",
      " No of vowels =  3\n",
      " No of consonants =  4\n",
      " No of digits =  4\n",
      " No of special characters =  3\n"
     ]
    }
   ],
   "source": [
    "s = input(\" Enter a string = \")\n",
    "\n",
    "v = 0\n",
    "c = 0\n",
    "sc = 0\n",
    "d = 0\n",
    " \n",
    "for i in range(0, len(s)):\n",
    "    ch = s[i]\n",
    " \n",
    "    if((ch >= 'a' and ch <= 'z') or (ch >= 'A' and ch <= 'Z')):\n",
    "        \n",
    "        if(ch == 'a' or ch == 'A' or ch=='e' or ch == 'E' or ch=='i' or ch == 'I' or ch=='o' \n",
    "           or ch == 'O' or ch=='u' or ch == 'U'):\n",
    "            v += 1\n",
    "        \n",
    "        else:\n",
    "            c += 1\n",
    "        \n",
    " \n",
    "    elif (ch >= '0' and ch <= '9'):\n",
    "        d += 1\n",
    "    \n",
    "    else:\n",
    "        sc += 1\n",
    "    \n",
    "         \n",
    "        \n",
    "print(\" The string = \", s)     \n",
    "print(\" No of vowels = \", v)\n",
    "print(\" No of consonants = \", c)\n",
    "print(\" No of digits = \", d)\n",
    "print(\" No of special characters = \", sc)\n",
    "\n",
    "    "
   ]
  },
  {
   "cell_type": "code",
   "execution_count": 27,
   "id": "13cb8853",
   "metadata": {},
   "outputs": [
    {
     "name": "stdout",
     "output_type": "stream",
     "text": [
      " Enter 1st string = token\n",
      " Enter 2nd string = water\n",
      "['t', 'w', 'o', 'a', 'k', 't', 'e', 'e', 'n', 'r']\n"
     ]
    }
   ],
   "source": [
    "s1 = input(\" Enter 1st string = \")\n",
    "s2 = input(\" Enter 2nd string = \")\n",
    "\n",
    "a = []\n",
    "\n",
    "if(len(s1)==len(s2)):\n",
    "    for i in range(0,len(s1)):\n",
    "        a.append(s1[i])\n",
    "        a.append(s2[i])\n",
    "        \n",
    "\n",
    "        \n",
    "print(a)"
   ]
  },
  {
   "cell_type": "code",
   "execution_count": 30,
   "id": "d015294f",
   "metadata": {},
   "outputs": [
    {
     "name": "stdout",
     "output_type": "stream",
     "text": [
      "Enter a no = 13\n",
      "13 is a Prime no\n",
      "Next prime no =  17\n"
     ]
    }
   ],
   "source": [
    "def prime(n):\n",
    "    count=0\n",
    "    for i in range(1,n+1):\n",
    "        if n%i==0:\n",
    "            count+=1\n",
    "    if count==2:\n",
    "        print (n,\"is a Prime no\")\n",
    "        new = n+1\n",
    "        while(1):\n",
    "            cnt = 0\n",
    "            for i in range(1, new + 1):\n",
    "                if new % i == 0:\n",
    "                    cnt += 1\n",
    "            if(cnt==2):\n",
    "                print(\"Next prime no = \", new)\n",
    "                break\n",
    "            else:\n",
    "                new+=1\n",
    "    else:\n",
    "        print(\"Not a prime no\")\n",
    "\n",
    "n=int(input(\"Enter a no = \"))\n",
    "prime(n)"
   ]
  },
  {
   "cell_type": "code",
   "execution_count": null,
   "id": "9c1ffb6b",
   "metadata": {},
   "outputs": [],
   "source": []
  },
  {
   "cell_type": "code",
   "execution_count": null,
   "id": "b602a580",
   "metadata": {},
   "outputs": [],
   "source": []
  }
 ],
 "metadata": {
  "kernelspec": {
   "display_name": "Python 3",
   "language": "python",
   "name": "python3"
  },
  "language_info": {
   "codemirror_mode": {
    "name": "ipython",
    "version": 3
   },
   "file_extension": ".py",
   "mimetype": "text/x-python",
   "name": "python",
   "nbconvert_exporter": "python",
   "pygments_lexer": "ipython3",
   "version": "3.8.8"
  }
 },
 "nbformat": 4,
 "nbformat_minor": 5
}
