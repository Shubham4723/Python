{
  "nbformat": 4,
  "nbformat_minor": 0,
  "metadata": {
    "colab": {
      "name": "Lab12",
      "provenance": [],
      "collapsed_sections": [],
      "authorship_tag": "ABX9TyNYMTZ4VGNK4dRge2BkyokY",
      "include_colab_link": true
    },
    "kernelspec": {
      "name": "python3",
      "display_name": "Python 3"
    },
    "language_info": {
      "name": "python"
    }
  },
  "cells": [
    {
      "cell_type": "markdown",
      "metadata": {
        "id": "view-in-github",
        "colab_type": "text"
      },
      "source": [
        "<a href=\"https://colab.research.google.com/github/Shubham4723/Python/blob/main/Lab12.ipynb\" target=\"_parent\"><img src=\"https://colab.research.google.com/assets/colab-badge.svg\" alt=\"Open In Colab\"/></a>"
      ]
    },
    {
      "cell_type": "markdown",
      "metadata": {
        "id": "WcloJNjGOEsz"
      },
      "source": [
        "Q.1) Write a python program to create a class Product having PID, P_Name, price. Now initialize the details of the product and input the quantity of the product, then calculate the total price and display all the details of product.(define calc() and display())"
      ]
    },
    {
      "cell_type": "code",
      "metadata": {
        "colab": {
          "base_uri": "https://localhost:8080/"
        },
        "id": "xqIrLv2MMPIC",
        "outputId": "7290e2f1-55f8-4462-e85d-ca67903a5116"
      },
      "source": [
        "class product:\n",
        "  def __init__(self,PID,P_Name,price,qty):\n",
        "    self.PID=PID\n",
        "    self.P_Name=P_Name\n",
        "    self.price=price\n",
        "    self.qty=qty\n",
        "  def calc(self):\n",
        "    total=self.price*self.qty\n",
        "    print(\"Price of\",self.qty,\"items is\",total)\n",
        "  def display(self):\n",
        "    print(\"Product ID =\",self.PID,\",Product name=\",str(self.P_Name),\",Price=\",self.price)\n",
        "\n",
        "a=int(input(\"Enter price of item:\"))\n",
        "b=int(input(\"Enter quantity of item:\"))\n",
        "o = product(112330,\"Noodles\",a,b)\n",
        "o.display()\n",
        "o.calc()"
      ],
      "execution_count": null,
      "outputs": [
        {
          "output_type": "stream",
          "name": "stdout",
          "text": [
            "Enter price of item:15\n",
            "Enter quantity of item:100\n",
            "Product ID = 112330 ,Product name= Noodles ,Price= 15\n",
            "Price of 100 items is 1500\n"
          ]
        }
      ]
    },
    {
      "cell_type": "markdown",
      "metadata": {
        "id": "1C_gcfkTRTN7"
      },
      "source": [
        "Q.2) Write a python program to create a class Bank_Account having data members as AC_No, Name, Balance and member functions as disp_info( ), deposit( ), withdraw( ). Initialize account details using constructor and perform all the mentioned operations. In case of withdraw, the minimum balance should be 500, otherwise it displays the message as “Insufficient Balance”.\n"
      ]
    },
    {
      "cell_type": "code",
      "metadata": {
        "colab": {
          "base_uri": "https://localhost:8080/"
        },
        "id": "IRiRrGgjMvu3",
        "outputId": "596a805a-5722-4aee-b96b-afdf866b35ab"
      },
      "source": [
        "class Bank:\n",
        "    def __init__(self, ac_no, name, bal):\n",
        "        self.ac_no = str(ac_no)\n",
        "        self.name = name\n",
        "        self.bal = bal\n",
        "    def dispInfo(self):\n",
        "        print(\"Account No.: \" + self.ac_no)\n",
        "        print(\"Name: \" + self.name)\n",
        "        print(\"Current Balance: \" + str(self.bal))\n",
        "    def deposite(self, amount):\n",
        "        if amount <= 0:\n",
        "            print(\"Amount should be more than 0\")\n",
        "           \n",
        "        else:\n",
        "            self.bal += amount\n",
        "            print(\"Amount added to the account\")\n",
        "            print(\"New amount: \" + str(self.bal))\n",
        "            \n",
        "    def withdraw(self, amount):\n",
        "        if amount < 500:\n",
        "            print(\"Amount should be more than 500\")\n",
        "            \n",
        "        else:\n",
        "            if self.bal < amount:\n",
        "                print(\"Insufficient funds\")\n",
        "                \n",
        "            else:\n",
        "                self.bal -= amount\n",
        "                print(\"Amount debited from the account\")\n",
        "                print(\"New amount: \" + str(self.bal))\n",
        "                \n",
        "\n",
        "b1 = Bank(\"1124\", \"Satish\", 5000)\n",
        "b1.dispInfo()\n",
        "b1.deposite(100)\n",
        "b1.withdraw(400)\n",
        "b1.dispInfo()\n",
        "b1.withdraw(1200)"
      ],
      "execution_count": null,
      "outputs": [
        {
          "output_type": "stream",
          "name": "stdout",
          "text": [
            "Account No.: 1124\n",
            "Name: Satish\n",
            "Current Balance: 5000\n",
            "Amount added to the account\n",
            "New amount: 5100\n",
            "Amount should be more than 500\n",
            "Account No.: 1124\n",
            "Name: Satish\n",
            "Current Balance: 5100\n",
            "Amount debited from the account\n",
            "New amount: 3900\n"
          ]
        }
      ]
    },
    {
      "cell_type": "markdown",
      "metadata": {
        "id": "-rJWKoohSrdR"
      },
      "source": [
        "Q.3) Write a python program to create a class Person having data members as Name,\n",
        "address, then derive a class as Teacher from Person. Now initialize the details using\n",
        "constructor and display the details of Teacher using method display()."
      ]
    },
    {
      "cell_type": "code",
      "metadata": {
        "colab": {
          "base_uri": "https://localhost:8080/"
        },
        "id": "EZ-E_99WNVlC",
        "outputId": "485921f0-24a4-4ddd-889c-ed7f00a80c19"
      },
      "source": [
        "class Person:\n",
        "  def __init__(self, name, address):\n",
        "    self.name = name\n",
        "    self.address = address\n",
        "\n",
        "class Teacher(Person):\n",
        "  #pass\n",
        "  def display(self):\n",
        "    print(\"Name of Teacher: \", self.name)\n",
        "    print(\"Address of Teacher: \", self.address)\n",
        "\n",
        "t1 = Teacher(\"Tarun\", \"Pune\")\n",
        "t1.display()"
      ],
      "execution_count": null,
      "outputs": [
        {
          "output_type": "stream",
          "name": "stdout",
          "text": [
            "Name of Teacher:  Tarun\n",
            "Address of Teacher:  Pune\n"
          ]
        }
      ]
    },
    {
      "cell_type": "markdown",
      "metadata": {
        "id": "dacTCeG9T299"
      },
      "source": [
        "Q.4) Create a Vehicle class with max_speed and mileage instance attributes and a\n",
        "function to display them. Create a child class Bus that will inherit all of the variables\n",
        "and methods of the Vehicle class. Add a seating capacity variable to the Bus class\n",
        "with a default value of 50. Add a function to calculate the total fare as seating\n",
        "capacity * 100 and display it. If the Vehicle is a Bus, 10% extra charges are added to\n",
        "the total fare.\n",
        "Write a python program that creates objects of both Vehicle and Bus classes and\n",
        "calculates the total fare for both."
      ]
    },
    {
      "cell_type": "code",
      "metadata": {
        "id": "QXoD2i8MR77M",
        "colab": {
          "base_uri": "https://localhost:8080/"
        },
        "outputId": "7e47b27b-effa-471c-cfaf-700e6f5aec2b"
      },
      "source": [
        "class Vehicle:\n",
        "    def __init__(self, max_speed, mileage, capacity):\n",
        "        self.max_speed = max_speed\n",
        "        self.mileage = mileage\n",
        "        self.capacity = capacity\n",
        "\n",
        "    def fare(self):\n",
        "        return self.capacity * 100\n",
        "\n",
        "class Bus(Vehicle):\n",
        "    def fare(self):\n",
        "        return (self.capacity * 100) + (self.capacity*10)\n",
        "\n",
        "School_bus = Bus(130, 12, 50)\n",
        "Car = Vehicle(100,20,4)\n",
        "print(\"Total Bus fare is: \"+ str(School_bus.fare())+\"\\nTotal car fare is: \"+str(Car.fare()))"
      ],
      "execution_count": 2,
      "outputs": [
        {
          "output_type": "stream",
          "name": "stdout",
          "text": [
            "Total Bus fare is: 5500\n",
            "Total car fare is: 400\n"
          ]
        }
      ]
    },
    {
      "cell_type": "code",
      "metadata": {
        "id": "2awmfoNzMfCr"
      },
      "source": [
        ""
      ],
      "execution_count": null,
      "outputs": []
    }
  ]
}