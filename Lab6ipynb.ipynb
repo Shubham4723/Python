{
  "nbformat": 4,
  "nbformat_minor": 0,
  "metadata": {
    "colab": {
      "name": "Lab6ipynb",
      "provenance": [],
      "authorship_tag": "ABX9TyO1g8O4DwtnFmok11wKbMGA",
      "include_colab_link": true
    },
    "kernelspec": {
      "name": "python3",
      "display_name": "Python 3"
    },
    "language_info": {
      "name": "python"
    }
  },
  "cells": [
    {
      "cell_type": "markdown",
      "metadata": {
        "id": "view-in-github",
        "colab_type": "text"
      },
      "source": [
        "<a href=\"https://colab.research.google.com/github/Shubham4723/Python/blob/main/Lab6ipynb.ipynb\" target=\"_parent\"><img src=\"https://colab.research.google.com/assets/colab-badge.svg\" alt=\"Open In Colab\"/></a>"
      ]
    },
    {
      "cell_type": "markdown",
      "metadata": {
        "id": "3cFKk4tTa4t8"
      },
      "source": [
        "Q.1) Write a python program to find the number of items available in the list."
      ]
    },
    {
      "cell_type": "code",
      "metadata": {
        "colab": {
          "base_uri": "https://localhost:8080/"
        },
        "id": "unv6J0s2a0Va",
        "outputId": "5b1ccabb-5371-42d7-970d-084977c667cc"
      },
      "source": [
        "a = [1, \"Tho\", 54, \"ttyl\"]\n",
        "print(\" No of items available in the list = \", len(a))"
      ],
      "execution_count": null,
      "outputs": [
        {
          "output_type": "stream",
          "text": [
            " No of items available in the list =  4\n"
          ],
          "name": "stdout"
        }
      ]
    },
    {
      "cell_type": "markdown",
      "metadata": {
        "id": "DLQP7r2rfSRb"
      },
      "source": [
        "Q.2) Write a python program to find the largest number from a list."
      ]
    },
    {
      "cell_type": "code",
      "metadata": {
        "colab": {
          "base_uri": "https://localhost:8080/"
        },
        "id": "o0i9WLfzfGJG",
        "outputId": "999a921b-50a4-4b95-8240-6d1d9fe4378e"
      },
      "source": [
        "a = [95, 2, 56, 21, 78, 0, 3, 76, 4]\n",
        "y = int(len(a))\n",
        "a.sort()\n",
        "print(\" Largest no = \", a[y-1])"
      ],
      "execution_count": null,
      "outputs": [
        {
          "output_type": "stream",
          "text": [
            " Largest no =  95\n"
          ],
          "name": "stdout"
        }
      ]
    },
    {
      "cell_type": "markdown",
      "metadata": {
        "id": "_J5oMoqRgEfa"
      },
      "source": [
        "Q.3) Write a python program to find sum of all the items in a list.\n"
      ]
    },
    {
      "cell_type": "code",
      "metadata": {
        "colab": {
          "base_uri": "https://localhost:8080/"
        },
        "id": "Mk2q02Z0f5fN",
        "outputId": "2e838088-cadc-429e-9818-04118f2abcec"
      },
      "source": [
        "a = [95, 2, 56, 21, 78, 0, 3, 76, 4]\n",
        "print(\" Sum of all the items in a list = \", sum(a))"
      ],
      "execution_count": null,
      "outputs": [
        {
          "output_type": "stream",
          "text": [
            " Sum of all the items in a list =  335\n"
          ],
          "name": "stdout"
        }
      ]
    },
    {
      "cell_type": "markdown",
      "metadata": {
        "id": "yj0bVUiYiqAI"
      },
      "source": [
        "Q.5) Write a python program to sort the elements of the given list in descending order"
      ]
    },
    {
      "cell_type": "code",
      "metadata": {
        "colab": {
          "base_uri": "https://localhost:8080/"
        },
        "id": "0S1nfxpHiGh9",
        "outputId": "19b5305a-58f4-4ae4-ff5e-0b5c571023c6"
      },
      "source": [
        "a = ['x', 'a', 'k', 'r', 'z', 'b', 't']\n",
        "a.sort()\n",
        "a.reverse()\n",
        "print(\" Elelments of list in descending order = \", a)"
      ],
      "execution_count": null,
      "outputs": [
        {
          "output_type": "stream",
          "text": [
            " Elelments of list in descending order =  ['z', 'x', 't', 'r', 'k', 'b', 'a']\n"
          ],
          "name": "stdout"
        }
      ]
    },
    {
      "cell_type": "markdown",
      "metadata": {
        "id": "Uyt3PhPQjhWi"
      },
      "source": [
        "Q.6) Write a python program to create two lists and join the second list with the first, then display the resultant list."
      ]
    },
    {
      "cell_type": "code",
      "metadata": {
        "colab": {
          "base_uri": "https://localhost:8080/"
        },
        "id": "mWVU2se1jeE_",
        "outputId": "642cfad3-9829-41cc-c7e4-927ce0a0b0ea"
      },
      "source": [
        "a = [75, 13, 45, 2, 90, 22, 54, 6]\n",
        "b = ['f', 'y', 'd', 'a', 't', 'w']\n",
        "\n",
        "print(\" Resultant list = \", a+b)"
      ],
      "execution_count": null,
      "outputs": [
        {
          "output_type": "stream",
          "text": [
            " Resultant list =  [75, 13, 45, 2, 90, 22, 54, 6, 'f', 'y', 'd', 'a', 't', 'w']\n"
          ],
          "name": "stdout"
        }
      ]
    },
    {
      "cell_type": "markdown",
      "metadata": {
        "id": "DIl4wca9kDI6"
      },
      "source": [
        "Q.7) Write a python program to reverse a tuple."
      ]
    },
    {
      "cell_type": "code",
      "metadata": {
        "colab": {
          "base_uri": "https://localhost:8080/"
        },
        "id": "-k12GVROj65p",
        "outputId": "5109a971-e9b4-42e5-abca-07e27e76c4ff"
      },
      "source": [
        "a = (1, 2, 3, 4, 5)\n",
        "print(\" Reversed tuple = \", tuple(reversed(a)))\n"
      ],
      "execution_count": null,
      "outputs": [
        {
          "output_type": "stream",
          "text": [
            " Reversed tuple =  (5, 4, 3, 2, 1)\n"
          ],
          "name": "stdout"
        }
      ]
    },
    {
      "cell_type": "markdown",
      "metadata": {
        "id": "RzYiudqQmRXB"
      },
      "source": [
        "Q.8) Write a python program to convert a tuple to a string."
      ]
    },
    {
      "cell_type": "code",
      "metadata": {
        "colab": {
          "base_uri": "https://localhost:8080/"
        },
        "id": "WTGcW8_KkfYE",
        "outputId": "13542c73-8d4f-4af7-d80d-fd4d41aed7af"
      },
      "source": [
        "a = ('a', 'h', 'd', 's', 'd', 'u', 'h', 'h', 'r', 'h', 'w')\n",
        "s = ''.join(a)\n",
        "print(\" Output = \", s)"
      ],
      "execution_count": null,
      "outputs": [
        {
          "output_type": "stream",
          "text": [
            " Output =  ahdsduhhrhw\n"
          ],
          "name": "stdout"
        }
      ]
    },
    {
      "cell_type": "markdown",
      "metadata": {
        "id": "81AEop_vm17i"
      },
      "source": [
        "Q.9) Write a python program to convert a list to a tuple."
      ]
    },
    {
      "cell_type": "code",
      "metadata": {
        "colab": {
          "base_uri": "https://localhost:8080/"
        },
        "id": "W8TPikNOmqG7",
        "outputId": "0244f3f1-447c-4109-b6fd-7a4b756cc1c7"
      },
      "source": [
        "a = [1, 4, 5, 7, 8, 34, 11, 0, 6, 4]\n",
        "print(\" Output = \", tuple(a))"
      ],
      "execution_count": null,
      "outputs": [
        {
          "output_type": "stream",
          "text": [
            " Output =  (1, 4, 5, 7, 8, 34, 11, 0, 6, 4)\n"
          ],
          "name": "stdout"
        }
      ]
    },
    {
      "cell_type": "markdown",
      "metadata": {
        "id": "kgtu-xMWnDyZ"
      },
      "source": [
        "Q.4) Write a python program to split the given list into 3 sub-lists as per your requirement."
      ]
    },
    {
      "cell_type": "code",
      "metadata": {
        "colab": {
          "base_uri": "https://localhost:8080/"
        },
        "id": "1Rb2Eaz3m-BR",
        "outputId": "48848adc-9935-4e58-f80c-7fd77a413383"
      },
      "source": [
        "a=[9, 34, 67, 0, 11, 54, 34, 32]\n",
        "x=int(input(\"Enter the 1st breakpoint :\"))\n",
        "y=int(input(\"Enter the 2nd breakpoint :\"))\n",
        "b=a[:x:1]\n",
        "c=a[x:y:1]\n",
        "d=a[y::1]\n",
        "print(b)\n",
        "print(c)\n",
        "print(d)"
      ],
      "execution_count": null,
      "outputs": [
        {
          "output_type": "stream",
          "text": [
            "Enter the 1st breakpoint :2\n",
            "Enter the 2nd breakpoint :4\n",
            "[9, 34]\n",
            "[67, 0]\n",
            "[11, 54, 34, 32]\n"
          ],
          "name": "stdout"
        }
      ]
    },
    {
      "cell_type": "code",
      "metadata": {
        "id": "YoZUq4FapE-x"
      },
      "source": [
        ""
      ],
      "execution_count": null,
      "outputs": []
    }
  ]
}