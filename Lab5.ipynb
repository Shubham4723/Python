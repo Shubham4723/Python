{
  "nbformat": 4,
  "nbformat_minor": 0,
  "metadata": {
    "colab": {
      "name": "Lab5.ipynb",
      "provenance": [],
      "authorship_tag": "ABX9TyMsG+tug6mI4XNjkhW6ZJtP",
      "include_colab_link": true
    },
    "kernelspec": {
      "name": "python3",
      "display_name": "Python 3"
    },
    "language_info": {
      "name": "python"
    }
  },
  "cells": [
    {
      "cell_type": "markdown",
      "metadata": {
        "id": "view-in-github",
        "colab_type": "text"
      },
      "source": [
        "<a href=\"https://colab.research.google.com/github/Shubham4723/Python/blob/main/Lab5.ipynb\" target=\"_parent\"><img src=\"https://colab.research.google.com/assets/colab-badge.svg\" alt=\"Open In Colab\"/></a>"
      ]
    },
    {
      "cell_type": "markdown",
      "metadata": {
        "id": "vuRAcD-egQOb"
      },
      "source": [
        "Q.1) Write a python program to count the total no. of characters of a given string without space."
      ]
    },
    {
      "cell_type": "code",
      "metadata": {
        "colab": {
          "base_uri": "https://localhost:8080/"
        },
        "id": "XvRQ-Re5gMY_",
        "outputId": "d04c8284-2680-4683-df1e-2226c69f24ec"
      },
      "source": [
        "a = input(\" Enter a sentence = \")\n",
        "x = int(a.count(' '))\n",
        "y = int(len(a))\n",
        "print(\" No of characters without including space = \", y-x)"
      ],
      "execution_count": null,
      "outputs": [
        {
          "output_type": "stream",
          "text": [
            " Enter a sentence = a quick brown fox\n",
            " No of characters without including space =  14\n"
          ],
          "name": "stdout"
        }
      ]
    },
    {
      "cell_type": "markdown",
      "metadata": {
        "id": "wBMuQ3GchjlS"
      },
      "source": [
        "Q.2) Write a python program to check whether a sentence ends with a specific word or not?\n"
      ]
    },
    {
      "cell_type": "code",
      "metadata": {
        "colab": {
          "base_uri": "https://localhost:8080/"
        },
        "id": "0N05leh1hh5z",
        "outputId": "de04fdb5-9f22-4b10-a2b1-3d2f06da312d"
      },
      "source": [
        "a = input(\" Enter a sentence = \")\n",
        "b = input(\" Enter a word to check if the sentence ends with it = \")\n",
        "print(\" Output = \", a.endswith(b))"
      ],
      "execution_count": null,
      "outputs": [
        {
          "output_type": "stream",
          "text": [
            " Enter a sentence = a quick brown fox\n",
            " Enter a word to check if the sentence ends with it = fox\n",
            " Output =  True\n"
          ],
          "name": "stdout"
        }
      ]
    },
    {
      "cell_type": "markdown",
      "metadata": {
        "id": "JKJ76P-9iVCN"
      },
      "source": [
        "Q.3) Write a python program to check the frequency of a specific character and a specific word within a string."
      ]
    },
    {
      "cell_type": "code",
      "metadata": {
        "colab": {
          "base_uri": "https://localhost:8080/"
        },
        "id": "Qcc_LGdmiZyD",
        "outputId": "dda2d22d-cdc1-411d-c608-bfa172123f2f"
      },
      "source": [
        "a = input(\" Enter a sentence = \")\n",
        "b = input(\" Enter character whose frequency is to be checked = \")\n",
        "c = input(\" Enter word whose frequency is to be checked = \")\n",
        "\n",
        "d = int(a.count(b))\n",
        "e = int(a.count(c))\n",
        "\n",
        "print(\" Frequency of entered character = \", d)\n",
        "print(\" Frequency of entered string = \", e)\n"
      ],
      "execution_count": null,
      "outputs": [
        {
          "output_type": "stream",
          "text": [
            " Enter a sentence = bob build a house that bob dreamt of building\n",
            " Enter character whose frequency is to be checked = b\n",
            " Enter word whose frequency is to be checked = bob\n",
            " Frequency of entered character =  6\n",
            " Frequency of entered string =  2\n"
          ],
          "name": "stdout"
        }
      ]
    },
    {
      "cell_type": "markdown",
      "metadata": {
        "id": "Lb0DSx9vkJL0"
      },
      "source": [
        "Q.4) Write a python program to find the position of a specific word in the given string."
      ]
    },
    {
      "cell_type": "code",
      "metadata": {
        "colab": {
          "base_uri": "https://localhost:8080/"
        },
        "id": "AYrG47Kok4HE",
        "outputId": "55f7ae00-7040-4acf-9ae1-72e11674ecf2"
      },
      "source": [
        "a = input(\" Enter a sentence = \")\n",
        "b = input(\" Enter word whose position is to be found = \")\n",
        "c = int(a.find(b))\n",
        "print(\" Position of entered word = \", c)"
      ],
      "execution_count": null,
      "outputs": [
        {
          "output_type": "stream",
          "text": [
            " Enter a sentence = a quick brown fox\n",
            " Enter word whose position is to be found = brown\n",
            " Position of entered word =  8\n"
          ],
          "name": "stdout"
        }
      ]
    },
    {
      "cell_type": "markdown",
      "metadata": {
        "id": "PBi1R4ENl2Yl"
      },
      "source": [
        "Q.5) Write a python program to replace an existing sub-string of a string with a new string."
      ]
    },
    {
      "cell_type": "code",
      "metadata": {
        "colab": {
          "base_uri": "https://localhost:8080/"
        },
        "id": "dohO-EJ9lte2",
        "outputId": "48b4c388-6bfd-4133-c348-9b549e482eea"
      },
      "source": [
        "a = input(\" Enter a sentence = \")\n",
        "b = input(\" Enter string which needs to be replaced = \")\n",
        "c = input(\" Enter new string which will replace entered string = \")\n",
        "print(\" Output = \", a.replace(b,c))\n"
      ],
      "execution_count": null,
      "outputs": [
        {
          "output_type": "stream",
          "text": [
            " Enter a sentence = a quick brown fox\n",
            " Enter string which needs to be replaced = brown\n",
            " Enter new string which will replace entered string = yellow\n",
            " Output =  a quick yellow fox\n"
          ],
          "name": "stdout"
        }
      ]
    },
    {
      "cell_type": "markdown",
      "metadata": {
        "id": "_HOz172qnMPD"
      },
      "source": [
        "Q.6) Write a python program to display a sub-string of a string with single quote (‘). Also specify the tab space and new line."
      ]
    },
    {
      "cell_type": "code",
      "metadata": {
        "colab": {
          "base_uri": "https://localhost:8080/"
        },
        "id": "FHDO5s1-mwpt",
        "outputId": "48b786be-e7b7-4c46-91cd-7d15624bd47f"
      },
      "source": [
        "a = \" \\'Welcome\\' to kiit univsersity. \\t It has a beautiful campus. \\n With some awesome \\'facilities\\' \"\n",
        "print(a)\n"
      ],
      "execution_count": null,
      "outputs": [
        {
          "output_type": "stream",
          "text": [
            " 'Welcome' to kiit univsersity. \t It has a beautiful campus. \n",
            " With some awesome 'facilities' \n"
          ],
          "name": "stdout"
        }
      ]
    },
    {
      "cell_type": "markdown",
      "metadata": {
        "id": "IqAMn7aQn7Zb"
      },
      "source": [
        "Q.7) Write a python program to capitalize the 1st letter of each and every word of a string."
      ]
    },
    {
      "cell_type": "code",
      "metadata": {
        "colab": {
          "base_uri": "https://localhost:8080/"
        },
        "id": "7JP5dPItn5Yt",
        "outputId": "5ea6b87c-e793-42f0-e4f6-128e7b2b9d30"
      },
      "source": [
        "a = input(\" Enter a sentence = \")\n",
        "print(\" Ouput = \", a.title())"
      ],
      "execution_count": null,
      "outputs": [
        {
          "output_type": "stream",
          "text": [
            " Enter a sentence = a quick brown fox\n",
            " Ouput =  A Quick Brown Fox\n"
          ],
          "name": "stdout"
        }
      ]
    },
    {
      "cell_type": "code",
      "metadata": {
        "id": "u-wz7oEAoG5-"
      },
      "source": [
        ""
      ],
      "execution_count": null,
      "outputs": []
    }
  ]
}