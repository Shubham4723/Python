{
  "nbformat": 4,
  "nbformat_minor": 0,
  "metadata": {
    "colab": {
      "name": "Lab4.ipynb",
      "provenance": [],
      "authorship_tag": "ABX9TyOQJZohfeHJGu2GPHfj3llG",
      "include_colab_link": true
    },
    "kernelspec": {
      "name": "python3",
      "display_name": "Python 3"
    },
    "language_info": {
      "name": "python"
    }
  },
  "cells": [
    {
      "cell_type": "markdown",
      "metadata": {
        "id": "view-in-github",
        "colab_type": "text"
      },
      "source": [
        "<a href=\"https://colab.research.google.com/github/Shubham4723/Python/blob/main/Lab4.ipynb\" target=\"_parent\"><img src=\"https://colab.research.google.com/assets/colab-badge.svg\" alt=\"Open In Colab\"/></a>"
      ]
    },
    {
      "cell_type": "markdown",
      "metadata": {
        "id": "jxUadOGRRsAY"
      },
      "source": [
        "Q.1) Write a python program to concatenate two strings with a space (in between)."
      ]
    },
    {
      "cell_type": "code",
      "metadata": {
        "colab": {
          "base_uri": "https://localhost:8080/"
        },
        "id": "ruB4yLIhLdhL",
        "outputId": "0695dbdb-69bf-44dd-e3da-52d2d2d8319e"
      },
      "source": [
        "a = input(\" Enter 1st string = \")\n",
        "b = input(\" Enter 2nd string = \")\n",
        "\n",
        "print(a+\" \"+b)"
      ],
      "execution_count": null,
      "outputs": [
        {
          "output_type": "stream",
          "text": [
            " Enter 1st string = Hello\n",
            " Enter 2nd string = world\n",
            "Hello world\n"
          ],
          "name": "stdout"
        }
      ]
    },
    {
      "cell_type": "markdown",
      "metadata": {
        "id": "HY2E4umuSFBa"
      },
      "source": [
        "Q.2) Write a python program to display a character according to the given index. Also display a character according to the given reverse indexing."
      ]
    },
    {
      "cell_type": "code",
      "metadata": {
        "colab": {
          "base_uri": "https://localhost:8080/"
        },
        "id": "D5ZKYRaaSAE6",
        "outputId": "d05e6f81-26b1-4332-9e52-a8ce720750b2"
      },
      "source": [
        "a = input(\" Enter a string = \")\n",
        "i = int(input(\" Enter an index = \"))\n",
        "r = int(input(\" Enter a reverse index = \"))\n",
        "\n",
        "print(\" Output 1 = \",a[i])\n",
        "print(\" Output 2 = \",a[r])"
      ],
      "execution_count": null,
      "outputs": [
        {
          "output_type": "stream",
          "text": [
            " Enter a string = abcdefgh\n",
            " Enter an index = 3\n",
            " Enter a reverse index = -3\n",
            " Output 1 =  d\n",
            " Output 2 =  f\n"
          ],
          "name": "stdout"
        }
      ]
    },
    {
      "cell_type": "markdown",
      "metadata": {
        "id": "cLTb1jOUS0YI"
      },
      "source": [
        "Q.3) Write a python program to display a set of characters of a string according to the given range. Also display a set of characters of that string starting from any index to last index."
      ]
    },
    {
      "cell_type": "code",
      "metadata": {
        "colab": {
          "base_uri": "https://localhost:8080/"
        },
        "id": "0NBW4KfCSujF",
        "outputId": "11c61554-b654-4273-e1ef-6d18bc75c978"
      },
      "source": [
        "a = input(\" Enter a string = \")\n",
        "x = int(input(\" Enter starting pt of a range = \"))\n",
        "y = int(input(\" Enter ending pt of a range = \"))\n",
        "\n",
        "print(\" Output 1 = \",a[x:y])\n",
        "\n",
        "i = int(input(\" Enter an index = \"))\n",
        "\n",
        "print(\" Output 2 = \",a[i:])"
      ],
      "execution_count": null,
      "outputs": [
        {
          "output_type": "stream",
          "text": [
            " Enter a string = abcdefgh\n",
            " Enter starting pt of a range = 2\n",
            " Enter ending pt of a range = 5\n",
            " Output 1 =  cde\n",
            " Enter an index = 4\n",
            " Output 2 =  efgh\n"
          ],
          "name": "stdout"
        }
      ]
    },
    {
      "cell_type": "markdown",
      "metadata": {
        "id": "oKaPanaDT1dv"
      },
      "source": [
        "Q.4) Write a python program to display a set of characters of a string according to the given reverse indexing."
      ]
    },
    {
      "cell_type": "code",
      "metadata": {
        "colab": {
          "base_uri": "https://localhost:8080/"
        },
        "id": "29X_1Y5rTwcS",
        "outputId": "8ee9207a-7620-48d3-af49-2402f17a5006"
      },
      "source": [
        "a = input(\" Enter a string = \")\n",
        "\n",
        "x = int(input(\" Enter starting reverse index = \"))\n",
        "y = int(input(\" Enter ending reverse index = \"))\n",
        "\n",
        "print(\" Output = \",a[x:y])"
      ],
      "execution_count": null,
      "outputs": [
        {
          "output_type": "stream",
          "text": [
            " Enter a string = abcdefgh\n",
            " Enter starting reverse index = -6\n",
            " Enter ending reverse index = -2\n",
            " Output =  cdef\n"
          ],
          "name": "stdout"
        }
      ]
    },
    {
      "cell_type": "markdown",
      "metadata": {
        "id": "OpXUOK2FUryu"
      },
      "source": [
        "Q.5) Write a python program to find and display the reverse of a string."
      ]
    },
    {
      "cell_type": "code",
      "metadata": {
        "colab": {
          "base_uri": "https://localhost:8080/"
        },
        "id": "bM62RiJ2Uhai",
        "outputId": "9e540ee0-c938-4c38-9edf-11fa2241f2ee"
      },
      "source": [
        "a = input(\" Enter a string = \")\n",
        "\n",
        "print(\" Original string = \",a[::-1])\n",
        "\n"
      ],
      "execution_count": null,
      "outputs": [
        {
          "output_type": "stream",
          "text": [
            " Enter a string = abcdefgh\n",
            " Original string =  hgfedcba\n"
          ],
          "name": "stdout"
        }
      ]
    }
  ]
}