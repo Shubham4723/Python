{
 "cells": [
  {
   "cell_type": "markdown",
   "id": "d7e99b0d",
   "metadata": {},
   "source": [
    "File Handling"
   ]
  },
  {
   "cell_type": "code",
   "execution_count": 11,
   "id": "41e46b60",
   "metadata": {},
   "outputs": [
    {
     "name": "stdout",
     "output_type": "stream",
     "text": [
      "My name is Shubham Konar ndsbdjjd  ndjwugyweyvyughbdj yhswveftvskubqjnk  gyftwvehwyf hb beqgebqgyuryvhb \n",
      "hqgyyqgyeguiqgeuiqgeu kwhweguqwu gftrwygjbdf bhwftrfbjgywqeg gyrywbrjwbu\n",
      "hrgwerwhkjqu hurywbrh nyuffbhuqh  hrqgyrgqygrqbhru\n",
      "gwgueg hwgwejei huehrijijwejio hrwirwjpo jiwjrierhugr gggywgy huwreihi huurhwurggr uwhuehuqh gyqeyegg\n",
      "ghwgywegy ghuwgergu jirhuqwghru hiwyrh hewhrwhwej\n",
      "hjwtiiowjtjiwjtij juhwgywg jirtiitjioptkooptje hgfeurh huhtwihtiow htuwguiwuiht huwhitji\n",
      "hutehtiowe huwgurhwir\n",
      "\n"
     ]
    }
   ],
   "source": [
    "f = open(\"New.txt\",\"r\")\n",
    "print(f.read())\n",
    "f.close()"
   ]
  },
  {
   "cell_type": "code",
   "execution_count": 12,
   "id": "cfa0f800",
   "metadata": {},
   "outputs": [
    {
     "name": "stdout",
     "output_type": "stream",
     "text": [
      "My name is Shub\n"
     ]
    }
   ],
   "source": [
    "f = open(\"New.txt\",\"r\")\n",
    "print(f.read(15))\n",
    "f.close()"
   ]
  },
  {
   "cell_type": "code",
   "execution_count": 13,
   "id": "aff0182e",
   "metadata": {},
   "outputs": [
    {
     "name": "stdout",
     "output_type": "stream",
     "text": [
      "My name is Shubham Konar ndsbdjjd  ndjwugyweyvyughbdj yhswveftvskubqjnk  gyftwvehwyf hb beqgebqgyuryvhb \n",
      "\n"
     ]
    }
   ],
   "source": [
    "f = open(\"New.txt\",\"r\")\n",
    "print(f.readline())\n",
    "f.close()"
   ]
  },
  {
   "cell_type": "code",
   "execution_count": 14,
   "id": "89c4689f",
   "metadata": {},
   "outputs": [
    {
     "name": "stdout",
     "output_type": "stream",
     "text": [
      "My name is Shubham Konar ndsbdjjd  ndjwugyweyvyughbdj yhswveftvskubqjnk  gyftwvehwyf hb beqgebqgyuryvhb \n",
      "\n",
      "hqgyyqgyeguiqgeuiqgeu kwhweguqwu gftrwygjbdf bhwftrfbjgywqeg gyrywbrjwbu\n",
      "\n"
     ]
    }
   ],
   "source": [
    "f = open(\"New.txt\",\"r\")\n",
    "print(f.readline())\n",
    "print(f.readline())\n",
    "f.close()"
   ]
  },
  {
   "cell_type": "code",
   "execution_count": 15,
   "id": "02bcca66",
   "metadata": {},
   "outputs": [
    {
     "name": "stdout",
     "output_type": "stream",
     "text": [
      "My name is Shubham Konar ndsbdjjd  ndjwugyweyvyughbdj yhswveftvskubqjnk  gyftwvehwyf hb beqgebqgyuryvhb \n",
      "\n",
      "hqgyyqgyeguiqgeuiqgeu kwhweguqwu gftrwygjbdf bhwftrfbjgywqeg gyrywbrjwbu\n",
      "\n",
      "hrgwerwhkjqu hurywbrh nyuffbhuqh  hrqgyrgqygrqbhru\n",
      "\n",
      "gwgueg hwgwejei huehrijijwejio hrwirwjpo jiwjrierhugr gggywgy huwreihi huurhwurggr uwhuehuqh gyqeyegg\n",
      "\n",
      "ghwgywegy ghuwgergu jirhuqwghru hiwyrh hewhrwhwej\n",
      "\n",
      "hjwtiiowjtjiwjtij juhwgywg jirtiitjioptkooptje hgfeurh huhtwihtiow htuwguiwuiht huwhitji\n",
      "\n",
      "hutehtiowe huwgurhwir\n",
      "\n"
     ]
    }
   ],
   "source": [
    "f = open(\"New.txt\",\"r\")\n",
    "for x in f:\n",
    "    print(x)\n",
    "f.close()"
   ]
  },
  {
   "cell_type": "code",
   "execution_count": 16,
   "id": "a4e4ee2b",
   "metadata": {},
   "outputs": [
    {
     "name": "stdout",
     "output_type": "stream",
     "text": [
      "My name is Shubham Konar ndsbdjjd  ndjwugyweyvyughbdj yhswveftvskubqjnk  gyftwvehwyf hb beqgebqgyuryvhb \n",
      "hqgyyqgyeguiqgeuiqgeu kwhweguqwu gftrwygjbdf bhwftrfbjgywqeg gyrywbrjwbu\n",
      "hrgwerwhkjqu hurywbrh nyuffbhuqh  hrqgyrgqygrqbhru\n",
      "gwgueg hwgwejei huehrijijwejio hrwirwjpo jiwjrierhugr gggywgy huwreihi huurhwurggr uwhuehuqh gyqeyegg\n",
      "ghwgywegy ghuwgergu jirhuqwghru hiwyrh hewhrwhwej\n",
      "hjwtiiowjtjiwjtij juhwgywg jirtiitjioptkooptje hgfeurh huhtwihtiow htuwguiwuiht huwhitji\n",
      "hutehtiowe huwgurhwir\n",
      "Hello how do you do me fine whatbout you\n"
     ]
    }
   ],
   "source": [
    "f = open(\"New.txt\",\"a\")\n",
    "f.write(\"Hello how do you do me fine whatbout you\")\n",
    "f.close()\n",
    "f = open(\"New.txt\",\"r\")\n",
    "print(f.read())\n",
    "f.close()"
   ]
  },
  {
   "cell_type": "code",
   "execution_count": 17,
   "id": "f87d755a",
   "metadata": {},
   "outputs": [
    {
     "name": "stdout",
     "output_type": "stream",
     "text": [
      "Hello how do you do me fine whatbout you\n"
     ]
    }
   ],
   "source": [
    "f = open(\"New.txt\",\"w\")\n",
    "f.write(\"Hello how do you do me fine whatbout you\")\n",
    "f.close()\n",
    "f = open(\"New.txt\",\"r\")\n",
    "print(f.read())\n",
    "f.close()"
   ]
  },
  {
   "cell_type": "code",
   "execution_count": 18,
   "id": "ecfbd9a5",
   "metadata": {},
   "outputs": [
    {
     "name": "stdout",
     "output_type": "stream",
     "text": [
      "Hello how do you do me fine whatbout you\n"
     ]
    }
   ],
   "source": [
    "f = open(\"New.txt\",\"r\")\n",
    "print(f.read())\n",
    "f.close()"
   ]
  },
  {
   "cell_type": "code",
   "execution_count": 19,
   "id": "9a4744fc",
   "metadata": {},
   "outputs": [
    {
     "name": "stdout",
     "output_type": "stream",
     "text": [
      "My name is Shubham Konar ndsbdjjd  ndjwugyweyvyughbdj yhswveftvskubqjnk  gyftwvehwyf hb beqgebqgyuryvhb \n",
      "hqgyyqgyeguiqgeuiqgeu kwhweguqwu gftrwygjbdf bhwftrfbjgywqeg gyrywbrjwbu\n",
      "hrgwerwhkjqu hurywbrh nyuffbhuqh  hrqgyrgqygrqbhru\n",
      "gwgueg hwgwejei huehrijijwejio hrwirwjpo jiwjrierhugr gggywgy huwreihi huurhwurggr uwhuehuqh gyqeyegg\n",
      "ghwgywegy ghuwgergu jirhuqwghru hiwyrh hewhrwhwej\n",
      "hjwtiiowjtjiwjtij juhwgywg jirtiitjioptkooptje hgfeurh huhtwihtiow htuwguiwuiht huwhitji\n",
      "hutehtiowe huwgurhwir\n",
      "\n"
     ]
    }
   ],
   "source": [
    "f = open(\"Demo.txt\",\"r\")\n",
    "print(f.read())\n",
    "f.close()"
   ]
  },
  {
   "cell_type": "code",
   "execution_count": 20,
   "id": "e84bd9c9",
   "metadata": {},
   "outputs": [],
   "source": [
    "f = open(\"Demo2.txt\", \"x\")"
   ]
  },
  {
   "cell_type": "code",
   "execution_count": 25,
   "id": "1a2c077c",
   "metadata": {},
   "outputs": [
    {
     "name": "stdout",
     "output_type": "stream",
     "text": [
      "How do you do me fine whatbout you go to hell see ya later\n"
     ]
    }
   ],
   "source": [
    "f = open(\"Demo2.txt\",\"w\")\n",
    "f.write(\"How do you do me fine whatbout you go to hell see ya later\")\n",
    "f.close()\n",
    "f = open(\"Demo2.txt\",\"r\")\n",
    "print(f.read())\n",
    "f.close()"
   ]
  },
  {
   "cell_type": "code",
   "execution_count": 26,
   "id": "d4a82bd4",
   "metadata": {},
   "outputs": [],
   "source": [
    "import os\n",
    "os.remove(\"New.txt\")"
   ]
  },
  {
   "cell_type": "code",
   "execution_count": 27,
   "id": "08983b37",
   "metadata": {},
   "outputs": [
    {
     "ename": "FileNotFoundError",
     "evalue": "[Errno 2] No such file or directory: 'New.txt'",
     "output_type": "error",
     "traceback": [
      "\u001b[1;31m---------------------------------------------------------------------------\u001b[0m",
      "\u001b[1;31mFileNotFoundError\u001b[0m                         Traceback (most recent call last)",
      "\u001b[1;32m<ipython-input-27-41394dd2cd57>\u001b[0m in \u001b[0;36m<module>\u001b[1;34m\u001b[0m\n\u001b[1;32m----> 1\u001b[1;33m \u001b[0mf\u001b[0m \u001b[1;33m=\u001b[0m \u001b[0mopen\u001b[0m\u001b[1;33m(\u001b[0m\u001b[1;34m\"New.txt\"\u001b[0m\u001b[1;33m,\u001b[0m\u001b[1;34m\"r\"\u001b[0m\u001b[1;33m)\u001b[0m\u001b[1;33m\u001b[0m\u001b[1;33m\u001b[0m\u001b[0m\n\u001b[0m\u001b[0;32m      2\u001b[0m \u001b[0mprint\u001b[0m\u001b[1;33m(\u001b[0m\u001b[0mf\u001b[0m\u001b[1;33m.\u001b[0m\u001b[0mread\u001b[0m\u001b[1;33m(\u001b[0m\u001b[1;33m)\u001b[0m\u001b[1;33m)\u001b[0m\u001b[1;33m\u001b[0m\u001b[1;33m\u001b[0m\u001b[0m\n\u001b[0;32m      3\u001b[0m \u001b[0mf\u001b[0m\u001b[1;33m.\u001b[0m\u001b[0mclose\u001b[0m\u001b[1;33m(\u001b[0m\u001b[1;33m)\u001b[0m\u001b[1;33m\u001b[0m\u001b[1;33m\u001b[0m\u001b[0m\n",
      "\u001b[1;31mFileNotFoundError\u001b[0m: [Errno 2] No such file or directory: 'New.txt'"
     ]
    }
   ],
   "source": [
    "f = open(\"New.txt\",\"r\")\n",
    "print(f.read())\n",
    "f.close()"
   ]
  },
  {
   "cell_type": "code",
   "execution_count": 49,
   "id": "12c646e1",
   "metadata": {},
   "outputs": [
    {
     "name": "stdout",
     "output_type": "stream",
     "text": [
      "1 The grass is green\n",
      "2 The water is colourless\n",
      "3 the sky is blue\n",
      "4 The fire is red\n",
      "5 The ground is brown\n",
      "6 The flower is pink\n",
      "7 The cloud is white\n",
      "8 The hair is black\n",
      "9 The flag is violet\n",
      "10 The rod is grey\n",
      "\n"
     ]
    }
   ],
   "source": [
    "f1 = open(\"BB.txt\",\"x\")\n",
    "f1.close()\n",
    "f2 = open(\"AA.txt\",\"r\")\n",
    "#print(f2.read())\n",
    "k = 1\n",
    "for x in f2:\n",
    "    x = str(k)+\" \"+x\n",
    "    f1 = open(\"BB.txt\",\"a\")\n",
    "    f1.write(x)\n",
    "    k+=1\n",
    "    \n",
    "f1.close()\n",
    "\n",
    "f1 = open(\"BB.txt\",\"r\")\n",
    "print(f1.read())\n",
    "f1.close()\n",
    "\n",
    "f2.close()\n"
   ]
  },
  {
   "cell_type": "code",
   "execution_count": 54,
   "id": "5f1d10d2",
   "metadata": {},
   "outputs": [
    {
     "name": "stdout",
     "output_type": "stream",
     "text": [
      "student\n",
      "University\n",
      "Bhubaneswar\n"
     ]
    }
   ],
   "source": [
    "f = open(\"CC.txt\",\"x\")\n",
    "f = open(\"CC.txt\",\"w\")\n",
    "f.write(\"I am a student of KIIT University Bhubaneswar\")\n",
    "f = open(\"CC.txt\",\"r\")\n",
    "t = f.read()\n",
    "l = t.split(\" \")\n",
    "for i in l:\n",
    "    if len(i)>5:\n",
    "        print(i)\n",
    "\n",
    "f.close()\n"
   ]
  },
  {
   "cell_type": "markdown",
   "id": "ce339d76",
   "metadata": {},
   "source": [
    "Regex Commands\n"
   ]
  },
  {
   "cell_type": "code",
   "execution_count": 55,
   "id": "56891e3e",
   "metadata": {},
   "outputs": [
    {
     "data": {
      "text/plain": [
       "['diemanns2000@gmail.com',\n",
       " 'alexismorgan@rediffmail.com',\n",
       " 'yoyobantai@gmail.com']"
      ]
     },
     "execution_count": 55,
     "metadata": {},
     "output_type": "execute_result"
    }
   ],
   "source": [
    "import re\n",
    "str1 = \"diemanns2000@gmail.com alexismorgan@rediffmail.com yoyobantai@gmail.com 19930003 Kometsu 477758883\"\n",
    "re.findall('\\w+@\\w+\\.\\w+[\\.]?\\w*',str1)\n"
   ]
  },
  {
   "cell_type": "code",
   "execution_count": 56,
   "id": "20ba9881",
   "metadata": {},
   "outputs": [
    {
     "data": {
      "text/plain": [
       "['diemanns2000@gmail.com',\n",
       " 'alexismorgan@rediffmail.com',\n",
       " 'yoyobantai@gmail.com']"
      ]
     },
     "execution_count": 56,
     "metadata": {},
     "output_type": "execute_result"
    }
   ],
   "source": [
    "import re\n",
    "str1 = \"diemanns2000@gmail.com alexismorgan@rediffmail.com yoyobantai@gmail.com 19930003 Kometsu 477758883\"\n",
    "x = re.compile('\\w+@\\w+\\.\\w+[\\.]?\\w*')\n",
    "x.findall(str1)"
   ]
  },
  {
   "cell_type": "code",
   "execution_count": 59,
   "id": "b18858ea",
   "metadata": {},
   "outputs": [
    {
     "name": "stdout",
     "output_type": "stream",
     "text": [
      "YES! We have a match !\n"
     ]
    }
   ],
   "source": [
    "import re\n",
    "txt = \"The rain in Spain\"\n",
    "x = re.search(\"^The.*Spain\",txt)\n",
    "if x:\n",
    "    print(\"YES! We have a match !\")\n",
    "    \n",
    "else:\n",
    "    print(\"No match\")"
   ]
  },
  {
   "cell_type": "code",
   "execution_count": 60,
   "id": "742a4be1",
   "metadata": {},
   "outputs": [
    {
     "name": "stdout",
     "output_type": "stream",
     "text": [
      "['h', 'e', 'a', 'i', 'i', 'a', 'i']\n"
     ]
    }
   ],
   "source": [
    "import re\n",
    "txt = \"The rain in Spain\"\n",
    "x = re.findall(\"[a-m]\",txt)\n",
    "print(x)"
   ]
  },
  {
   "cell_type": "code",
   "execution_count": 61,
   "id": "4edbe954",
   "metadata": {},
   "outputs": [
    {
     "name": "stdout",
     "output_type": "stream",
     "text": [
      "{'Ram': '22', 'Hari': '30', 'Sita': '24', 'Gita': '27'}\n"
     ]
    }
   ],
   "source": [
    "import re\n",
    "Nameage = \"Ram is 22 and Hari is 30 Sita is 24 and Gita is 27\"\n",
    "\n",
    "Ages = re.findall(r'\\d{1,3}',Nameage)\n",
    "names = re.findall(r'[A-Z][a-z]*', Nameage)\n",
    "\n",
    "ageDict = {}\n",
    "x=0\n",
    "for eachname in names:\n",
    "    ageDict[eachname] = Ages[x]\n",
    "    x+=1\n",
    "print(ageDict)\n"
   ]
  },
  {
   "cell_type": "code",
   "execution_count": 2,
   "id": "76ad0c50",
   "metadata": {},
   "outputs": [
    {
     "name": "stdout",
     "output_type": "stream",
     "text": [
      "['A', 'ASCII', 'DEBUG', 'DOTALL', 'I', 'IGNORECASE', 'L', 'LOCALE', 'M', 'MULTILINE', 'Match', 'Pattern', 'RegexFlag', 'S', 'Scanner', 'T', 'TEMPLATE', 'U', 'UNICODE', 'VERBOSE', 'X', '_MAXCACHE', '__all__', '__builtins__', '__cached__', '__doc__', '__file__', '__loader__', '__name__', '__package__', '__spec__', '__version__', '_cache', '_compile', '_compile_repl', '_expand', '_locale', '_pickle', '_special_chars_map', '_subx', 'compile', 'copyreg', 'enum', 'error', 'escape', 'findall', 'finditer', 'fullmatch', 'functools', 'match', 'purge', 'search', 'split', 'sre_compile', 'sre_parse', 'sub', 'subn', 'template']\n"
     ]
    }
   ],
   "source": [
    "import re\n",
    "print(dir(re))"
   ]
  },
  {
   "cell_type": "code",
   "execution_count": 5,
   "id": "9f728234",
   "metadata": {},
   "outputs": [
    {
     "name": "stdout",
     "output_type": "stream",
     "text": [
      "['5', '9']\n"
     ]
    }
   ],
   "source": [
    "import re\n",
    "txt = \"That will be 59 dollars\"\n",
    "x = re.findall(\"\\d\", txt)\n",
    "print(x)"
   ]
  },
  {
   "cell_type": "code",
   "execution_count": 6,
   "id": "3c6ad25f",
   "metadata": {},
   "outputs": [
    {
     "name": "stdout",
     "output_type": "stream",
     "text": [
      "['hello']\n"
     ]
    }
   ],
   "source": [
    "import re\n",
    "txt = \"hello world\"\n",
    "x = re.findall(\"he..o\", txt)\n",
    "print(x)"
   ]
  },
  {
   "cell_type": "code",
   "execution_count": 7,
   "id": "3d21d354",
   "metadata": {},
   "outputs": [
    {
     "name": "stdout",
     "output_type": "stream",
     "text": [
      "We have a match\n"
     ]
    }
   ],
   "source": [
    "import re\n",
    "txt = \"hello world\"\n",
    "x = re.findall(\"^hello\", txt)\n",
    "if x:\n",
    "    print(\"We have a match\")\n",
    "\n",
    "else:\n",
    "    print(\"No match\")"
   ]
  },
  {
   "cell_type": "code",
   "execution_count": 8,
   "id": "293fd3d4",
   "metadata": {},
   "outputs": [
    {
     "name": "stdout",
     "output_type": "stream",
     "text": [
      "We have a match\n"
     ]
    }
   ],
   "source": [
    "import re\n",
    "txt = \"hello world\"\n",
    "x = re.findall(\"world$\", txt)\n",
    "if x:\n",
    "    print(\"We have a match\")\n",
    "\n",
    "else:\n",
    "    print(\"No match\")"
   ]
  },
  {
   "cell_type": "code",
   "execution_count": 9,
   "id": "595361f4",
   "metadata": {},
   "outputs": [
    {
     "name": "stdout",
     "output_type": "stream",
     "text": [
      "['ai', 'ai', 'ai', 'ai']\n",
      "Yes there is atleat 1 match\n"
     ]
    }
   ],
   "source": [
    "import re\n",
    "txt = \"The rain in Spain falls mainly in the plain\"\n",
    "x = re.findall(\"ai+\", txt)\n",
    "print(x)\n",
    "if x:\n",
    "    print(\"Yes there is atleat 1 match\")\n",
    "    \n",
    "else:\n",
    "    print(\"No match\")"
   ]
  },
  {
   "cell_type": "code",
   "execution_count": 10,
   "id": "9f3d54cd",
   "metadata": {},
   "outputs": [
    {
     "name": "stdout",
     "output_type": "stream",
     "text": [
      "['all']\n",
      "Yes there is atleast 1 match\n"
     ]
    }
   ],
   "source": [
    "import re\n",
    "txt = \"The rain in Spain falls mainly in the plain\"\n",
    "x = re.findall(\"al{2}\", txt)\n",
    "print(x)\n",
    "\n",
    "if x:\n",
    "    print(\"Yes there is atleast 1 match\")\n",
    "    \n",
    "else:\n",
    "    print(\"No match\")"
   ]
  },
  {
   "cell_type": "code",
   "execution_count": 12,
   "id": "b9443419",
   "metadata": {},
   "outputs": [
    {
     "name": "stdout",
     "output_type": "stream",
     "text": [
      "['falls']\n",
      "Yes there is atleast 1 match\n"
     ]
    }
   ],
   "source": [
    "import re\n",
    "txt = \"The rain in Spain falls mainly in the plain\"\n",
    "x = re.findall(\"falls|stays\", txt)\n",
    "print(x)\n",
    "\n",
    "if x:\n",
    "    print(\"Yes there is atleast 1 match\")\n",
    "    \n",
    "else:\n",
    "    print(\"No match\")\n",
    "     "
   ]
  },
  {
   "cell_type": "code",
   "execution_count": 13,
   "id": "956cfaaa",
   "metadata": {},
   "outputs": [
    {
     "name": "stdout",
     "output_type": "stream",
     "text": [
      "['ain', 'ain']\n",
      "Yes we have a match\n"
     ]
    }
   ],
   "source": [
    "import re\n",
    "txt = \"The rain in Spain\"\n",
    "x = re.findall(r\"\\Bain\", txt)\n",
    "print(x)\n",
    "if x:\n",
    "    print(\"Yes we have a match\")\n",
    "    \n",
    "else:\n",
    "    print(\"No match\")"
   ]
  },
  {
   "cell_type": "code",
   "execution_count": 14,
   "id": "a4df7add",
   "metadata": {},
   "outputs": [
    {
     "name": "stdout",
     "output_type": "stream",
     "text": [
      "['T', 'h', 'e', ' ', 'r', 'a', 'i', 'n', ' ', 'i', 'n', ' ', 'S', 'p', 'a', 'i', 'n']\n",
      "Yes we have a match\n"
     ]
    }
   ],
   "source": [
    "import re\n",
    "txt = \"The rain in Spain\"\n",
    "x = re.findall(\"\\D\", txt)\n",
    "print(x)\n",
    "\n",
    "if x:\n",
    "    print(\"Yes we have a match\")\n",
    "    \n",
    "else:\n",
    "    print(\"No match\")"
   ]
  },
  {
   "cell_type": "code",
   "execution_count": null,
   "id": "b4338913",
   "metadata": {},
   "outputs": [],
   "source": []
  }
 ],
 "metadata": {
  "kernelspec": {
   "display_name": "Python 3",
   "language": "python",
   "name": "python3"
  },
  "language_info": {
   "codemirror_mode": {
    "name": "ipython",
    "version": 3
   },
   "file_extension": ".py",
   "mimetype": "text/x-python",
   "name": "python",
   "nbconvert_exporter": "python",
   "pygments_lexer": "ipython3",
   "version": "3.8.8"
  }
 },
 "nbformat": 4,
 "nbformat_minor": 5
}
