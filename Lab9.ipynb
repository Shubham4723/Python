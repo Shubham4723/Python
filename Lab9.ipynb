{
  "nbformat": 4,
  "nbformat_minor": 0,
  "metadata": {
    "colab": {
      "name": "Lab9.ipynb",
      "provenance": [],
      "authorship_tag": "ABX9TyMKqFAYdDtPinLAumIXSHQ9",
      "include_colab_link": true
    },
    "kernelspec": {
      "name": "python3",
      "display_name": "Python 3"
    },
    "language_info": {
      "name": "python"
    }
  },
  "cells": [
    {
      "cell_type": "markdown",
      "metadata": {
        "id": "view-in-github",
        "colab_type": "text"
      },
      "source": [
        "<a href=\"https://colab.research.google.com/github/Shubham4723/Python/blob/main/Lab9.ipynb\" target=\"_parent\"><img src=\"https://colab.research.google.com/assets/colab-badge.svg\" alt=\"Open In Colab\"/></a>"
      ]
    },
    {
      "cell_type": "markdown",
      "metadata": {
        "id": "VyeIU2DUsLpz"
      },
      "source": [
        "Q.1) Write a python program to create a list of vegetables and check specific vegetable available in the list or not."
      ]
    },
    {
      "cell_type": "code",
      "metadata": {
        "colab": {
          "base_uri": "https://localhost:8080/"
        },
        "id": "booZlC3RsB1h",
        "outputId": "cc328ace-c37f-4de3-95ed-2fcac39fe009"
      },
      "source": [
        "veg = [\"Potato\", \"Tomato\", \"Cabbage\", \"Carrot\", \"Onion\", \"Beans\"]\n",
        "a = input(\" Enter vegetable we want to find = \")\n",
        "\n",
        "for i in veg:\n",
        "  if a in veg:\n",
        "    print(a, \" is present \")\n",
        "    break\n",
        "  else:\n",
        "    print(a, \" not present \")\n",
        "    break"
      ],
      "execution_count": null,
      "outputs": [
        {
          "output_type": "stream",
          "name": "stdout",
          "text": [
            " Enter vegetable we want to find = Beans\n",
            "Beans  is present \n"
          ]
        }
      ]
    },
    {
      "cell_type": "markdown",
      "metadata": {
        "id": "fZ2pICA0t7tE"
      },
      "source": [
        "Q.2) Write a python program to get the Fibonacci series between 0 to 25."
      ]
    },
    {
      "cell_type": "code",
      "metadata": {
        "colab": {
          "base_uri": "https://localhost:8080/"
        },
        "id": "Kh-VpWdetGrV",
        "outputId": "3e7b3d15-5c02-48de-cb15-9cd729253dc2"
      },
      "source": [
        "e = 0\n",
        "f = 1\n",
        "print(e,\" \")\n",
        "print(f,\" \")\n",
        "for x in range(1,25):\n",
        "  g = e + f\n",
        "  if g>=25:\n",
        "    break\n",
        "  \n",
        "  print(g,\" \")\n",
        "  e = f\n",
        "  f = g\n",
        "  "
      ],
      "execution_count": null,
      "outputs": [
        {
          "output_type": "stream",
          "name": "stdout",
          "text": [
            "0  \n",
            "1  \n",
            "1  \n",
            "2  \n",
            "3  \n",
            "5  \n",
            "8  \n",
            "13  \n",
            "21  \n"
          ]
        }
      ]
    },
    {
      "cell_type": "markdown",
      "metadata": {
        "id": "AlTqgJkuw9zd"
      },
      "source": [
        "Q.3) Write a python program that takes a list and returns a new list with unique elements of the first list using loop.\n",
        "Sample List : [1,2,3,3,3,3,4,5]\n",
        "Unique List : [1, 2, 3, 4, 5]"
      ]
    },
    {
      "cell_type": "code",
      "metadata": {
        "colab": {
          "base_uri": "https://localhost:8080/"
        },
        "id": "fpPt7xuuv9vG",
        "outputId": "e71410ce-4c73-48d8-84a4-8d10a521d660"
      },
      "source": [
        "a = [1, 2, 3, 3, 3, 3, 4, 5]\n",
        "x = []\n",
        "for l in a:\n",
        "  if l not in x:\n",
        "    x.append(l)\n",
        "\n",
        "print(\"Output = \",x)"
      ],
      "execution_count": null,
      "outputs": [
        {
          "output_type": "stream",
          "name": "stdout",
          "text": [
            "Output =  [1, 2, 3, 4, 5]\n"
          ]
        }
      ]
    },
    {
      "cell_type": "markdown",
      "metadata": {
        "id": "gXNLu958ycrL"
      },
      "source": [
        "Q.4) Write a python program to calculate the sum of all the numbers within a range.\n"
      ]
    },
    {
      "cell_type": "code",
      "metadata": {
        "colab": {
          "base_uri": "https://localhost:8080/"
        },
        "id": "utCEQeh-yPb0",
        "outputId": "4c424ee2-73a8-40ea-e93f-68be79b061c8"
      },
      "source": [
        "m = int(input(\" Enter start point of range = \"))\n",
        "n = int(input(\" Enter end point of range = \"))\n",
        "s = 0\n",
        "for i in range(m,n+1):\n",
        "  s = s + i\n",
        "  \n",
        "print(\" Sum = \",s)\n"
      ],
      "execution_count": null,
      "outputs": [
        {
          "output_type": "stream",
          "name": "stdout",
          "text": [
            " Enter start point of range = 11\n",
            " Enter end point of range = 20\n",
            " Sum =  155\n"
          ]
        }
      ]
    },
    {
      "cell_type": "markdown",
      "metadata": {
        "id": "LAzV3tlAzfTL"
      },
      "source": [
        "Q.5) Write a python program that prints all the numbers within a range except prime numbers."
      ]
    },
    {
      "cell_type": "code",
      "metadata": {
        "colab": {
          "base_uri": "https://localhost:8080/"
        },
        "id": "iViK9ejfzc0T",
        "outputId": "9ef4a239-bddb-4f48-9e02-e4832816dbd8"
      },
      "source": [
        "st = int(input(\" Enter start point of range = \"))\n",
        "ed = int(input(\" Enter end point of range = \"))\n",
        "r = 0\n",
        "c = 0\n",
        "for i in range(st,ed+1):\n",
        "  c = 0\n",
        "  for j in range(1,i+1):\n",
        "    r = i % j\n",
        "    if r==0:\n",
        "      c = c + 1\n",
        "\n",
        "  if c!=2:\n",
        "    print(i)\n",
        "\n"
      ],
      "execution_count": null,
      "outputs": [
        {
          "output_type": "stream",
          "name": "stdout",
          "text": [
            " Enter start point of range = 11\n",
            " Enter end point of range = 20\n",
            "12\n",
            "14\n",
            "15\n",
            "16\n",
            "18\n",
            "20\n"
          ]
        }
      ]
    },
    {
      "cell_type": "markdown",
      "metadata": {
        "id": "N-hNuC5W1KTE"
      },
      "source": [
        "**Q**.6) Write a python program to print the following pattern using loop.\n",
        "*\n",
        "*  *\n",
        "*  *  *\n",
        "*  *  *  *\n",
        "*  *  *  *  *"
      ]
    },
    {
      "cell_type": "code",
      "metadata": {
        "colab": {
          "base_uri": "https://localhost:8080/"
        },
        "id": "89h9LQY_0jYc",
        "outputId": "0cb1b261-2260-43be-9bc9-a8f2d967d1ea"
      },
      "source": [
        "u = int(input(\" Enter range = \"))\n",
        "\n",
        "for i in range(1,u+1):\n",
        "  for j in range(1,i+1):\n",
        "    print(\"* \",end=\"\")\n",
        "\n",
        "  print(\"\\r\")\n"
      ],
      "execution_count": null,
      "outputs": [
        {
          "output_type": "stream",
          "name": "stdout",
          "text": [
            " Enter range = 5\n",
            "* \n",
            "* * \n",
            "* * * \n",
            "* * * * \n",
            "* * * * * \n"
          ]
        }
      ]
    },
    {
      "cell_type": "markdown",
      "metadata": {
        "id": "c_SNgQ_A1_9L"
      },
      "source": [
        "Q.7)Write a Python program which accepts a sequence of comma separated 4 digit binary numbers as its input and print the numbers that are divisible by 5 in a comma separated sequence.\n",
        "\n",
        "Sample Input : 0100, 0011, 1010, 1001, 1100, 1001\n",
        "Expected Output : 1010"
      ]
    },
    {
      "cell_type": "code",
      "metadata": {
        "colab": {
          "base_uri": "https://localhost:8080/"
        },
        "id": "Pox5vLHr1fnU",
        "outputId": "6487229d-7841-4ab1-dd2b-e5db11f30979"
      },
      "source": [
        "n = int(input(\"Enter the number of items : \"))\n",
        "lst=[]\n",
        "for i in range(0,n):\n",
        "  binary = int(input(\"Input binary value: \"),2)\n",
        "  lst.append(binary)\n",
        "print(\"The numbers divisible by 5 are : \")\n",
        "for j in lst:\n",
        "  if j%5==0:\n",
        "    print(f\"Decimal : {j}\\tBinary : \",bin(j).replace(\"0b\", \"\"))\n",
        "\n"
      ],
      "execution_count": null,
      "outputs": [
        {
          "output_type": "stream",
          "name": "stdout",
          "text": [
            "Enter the number of items : 4\n",
            "Input binary value: 1100\n",
            "Input binary value: 1010\n",
            "Input binary value: 0011\n",
            "Input binary value: 1101\n",
            "The numbers divisible by 5 are : \n",
            "Decimal : 10\tBinary :  1010\n"
          ]
        }
      ]
    }
  ]
}