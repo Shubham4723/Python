{
  "nbformat": 4,
  "nbformat_minor": 0,
  "metadata": {
    "colab": {
      "name": "Lab8",
      "provenance": [],
      "authorship_tag": "ABX9TyNU+/G0jFtqeiRLqFvZRvi0",
      "include_colab_link": true
    },
    "kernelspec": {
      "name": "python3",
      "display_name": "Python 3"
    },
    "language_info": {
      "name": "python"
    }
  },
  "cells": [
    {
      "cell_type": "markdown",
      "metadata": {
        "id": "view-in-github",
        "colab_type": "text"
      },
      "source": [
        "<a href=\"https://colab.research.google.com/github/Shubham4723/Python/blob/main/Lab8.ipynb\" target=\"_parent\"><img src=\"https://colab.research.google.com/assets/colab-badge.svg\" alt=\"Open In Colab\"/></a>"
      ]
    },
    {
      "cell_type": "markdown",
      "metadata": {
        "id": "Ca2t68oWmrgN"
      },
      "source": [
        "Q.1) Write a python program to input a number and check whether it is divisible by 5 and 7 or not.."
      ]
    },
    {
      "cell_type": "code",
      "metadata": {
        "colab": {
          "base_uri": "https://localhost:8080/"
        },
        "id": "aDQN1JHummGW",
        "outputId": "78a764b4-3d8b-4f3b-8f6d-66fc1b55ce37"
      },
      "source": [
        "n = int(input(\" Enter a no = \"))\n",
        "if(n%5 is 0 and n%7 is 0) :\n",
        "  print(\" The no is divisible by both 5 and 7 \")\n",
        "else:\n",
        "  print(\" Not divisible by 5 and 7 \")\n",
        "\n",
        "\n",
        "\n"
      ],
      "execution_count": null,
      "outputs": [
        {
          "output_type": "stream",
          "name": "stdout",
          "text": [
            " Enter a no = 35\n",
            " The no is divisible by both 5 and 7 \n"
          ]
        }
      ]
    },
    {
      "cell_type": "markdown",
      "metadata": {
        "id": "EvkLO-joneGM"
      },
      "source": [
        "Q.2) Write a python program to check whether a specific number is available within a list or not."
      ]
    },
    {
      "cell_type": "code",
      "metadata": {
        "colab": {
          "base_uri": "https://localhost:8080/"
        },
        "id": "bZ3Srahzncst",
        "outputId": "c974b177-41b2-4e77-fbe5-f9a0413cc826"
      },
      "source": [
        "a=[9, 34, 67, 0, 11, 54, 34, 32]\n",
        "x = int(input(\" Enter a no to check if it's in the list = \"))\n",
        "if(x in a):\n",
        "  print(\" The no is in the list \")\n",
        "else:\n",
        "  print(\" The no is not in the list \")"
      ],
      "execution_count": null,
      "outputs": [
        {
          "output_type": "stream",
          "name": "stdout",
          "text": [
            " Enter a no to check if it's in the list = 54\n",
            " The no is in the list \n"
          ]
        }
      ]
    },
    {
      "cell_type": "markdown",
      "metadata": {
        "id": "wMUUsotzoGkR"
      },
      "source": [
        "Q.3) Write a python program to input 3 numbers and find out the smallest one using nested if statement."
      ]
    },
    {
      "cell_type": "code",
      "metadata": {
        "colab": {
          "base_uri": "https://localhost:8080/"
        },
        "id": "gQbKAVIEoBj2",
        "outputId": "38a2118e-4359-4059-88fe-232652dc496b"
      },
      "source": [
        "a = int(input(\" Enter 1st no = \"))\n",
        "b = int(input(\" Enter 2nd no = \"))\n",
        "c = int(input(\" Enter 3rd no = \"))\n",
        "if(a<b):\n",
        "  if(a<c):\n",
        "    print(\" Smallest no = \",a)\n",
        "  else:\n",
        "    print(\" Smallest no = \",c)\n",
        "elif(b<c):\n",
        "    print(\" Smallest no = \",b)\n",
        "else:\n",
        "    print(\" Smallest no = \",c)\n"
      ],
      "execution_count": null,
      "outputs": [
        {
          "output_type": "stream",
          "name": "stdout",
          "text": [
            " Enter 1st no = 3\n",
            " Enter 2nd no = 1\n",
            " Enter 3rd no = 2\n",
            " Smallest no =  1\n"
          ]
        }
      ]
    },
    {
      "cell_type": "markdown",
      "metadata": {
        "id": "vuKzKSxqrHwa"
      },
      "source": [
        "Q.4) Write a python program to find the roots of a quadratic equation ax2+bx+c=0."
      ]
    },
    {
      "cell_type": "code",
      "metadata": {
        "colab": {
          "base_uri": "https://localhost:8080/"
        },
        "id": "89I-192kow36",
        "outputId": "6befacbc-09fa-401c-a2dd-ce99c5d8b114"
      },
      "source": [
        "import math\n",
        "a = int(input(\" Enter coeff of x^2 = \"))\n",
        "b = int(input(\" Enter coeff of x = \"))\n",
        "c = int(input(\" Enter constant value = \"))\n",
        "\n",
        "d = (b*b)-(4*a*c)\n",
        "\n",
        "s = math.sqrt(abs(d))\n",
        "\n",
        "if(d>0):\n",
        "  print(\" Roots are real and different \")\n",
        "  print((-b+s)/(2*a))\n",
        "  print((-b-s)/(2*a))\n",
        "elif(d is 0):\n",
        "  print(\" Roots are real and same \")\n",
        "  print(-b/(2*a))\n",
        "else:\n",
        "  print(\" Roots are complex \")\n",
        "  print(-b/(2*a),\"+i\",s)\n",
        "  print(-b/(2*a),\"-i\",s)\n",
        "\n",
        "  \n",
        "\n",
        "\n"
      ],
      "execution_count": null,
      "outputs": [
        {
          "output_type": "stream",
          "name": "stdout",
          "text": [
            " Enter coeff of x^2 = 1\n",
            " Enter coeff of x = 2\n",
            " Enter constant value = 1\n",
            " Roots are real and same \n",
            "-1.0\n"
          ]
        }
      ]
    },
    {
      "cell_type": "markdown",
      "metadata": {
        "id": "qh98wnC5uVKI"
      },
      "source": [
        "Q.5) Write a python program to input a 3-digit number and check whether it is palindrome number or not. (without using loop)"
      ]
    },
    {
      "cell_type": "code",
      "metadata": {
        "colab": {
          "base_uri": "https://localhost:8080/"
        },
        "id": "nLX7XeaouLmb",
        "outputId": "324a6071-2254-47f5-ef33-ba468a6a2bd7"
      },
      "source": [
        "a = int(input(\" Enter a 3 digit no = \"))\n",
        "b = int(a/10)\n",
        "c = int(a%10)\n",
        "d = int(b/10)\n",
        "e = int(b%10)\n",
        "x = (c*100)+(e*10)+d\n",
        "if(a==x):\n",
        "  print(\" Palindrome no \")\n",
        "else:\n",
        "  print(\" Not palindrome no \")\n"
      ],
      "execution_count": null,
      "outputs": [
        {
          "output_type": "stream",
          "name": "stdout",
          "text": [
            " Enter a 3 digit no = 232\n",
            " Palindrome no \n"
          ]
        }
      ]
    },
    {
      "cell_type": "markdown",
      "metadata": {
        "id": "WA4sLh2CvUR3"
      },
      "source": [
        "Q.6) Write a python program to input three numbers as a,b,c, then display sum of all sides if those are sides of a triangle else display 0 (Zero) on the screen."
      ]
    },
    {
      "cell_type": "code",
      "metadata": {
        "colab": {
          "base_uri": "https://localhost:8080/"
        },
        "id": "0-rVRaYpvPsc",
        "outputId": "2db4c2fa-cf74-4e53-9bb4-89d6e4cc245c"
      },
      "source": [
        "a = int(input(\" Enter 1st no = \"))\n",
        "b = int(input(\" Enter 2nd no = \"))\n",
        "c = int(input(\" Enter 3rd no = \"))\n",
        "r = (a+b>c) and (b+c>a) and (c+a>b)\n",
        "if(r):\n",
        "  print(\"Sum = \",(a+b+c))\n",
        "else:\n",
        "  print(0)"
      ],
      "execution_count": null,
      "outputs": [
        {
          "output_type": "stream",
          "name": "stdout",
          "text": [
            " Enter 1st no = 4\n",
            " Enter 2nd no = 5\n",
            " Enter 3rd no = 3\n",
            "Sum =  12\n"
          ]
        }
      ]
    },
    {
      "cell_type": "markdown",
      "metadata": {
        "id": "X7yVDeiFwX42"
      },
      "source": [
        "Q.7) Write a python program to input marks in 4 subjects, then calculate total mark and percentage. Also display the grade according to the following criteria:\n",
        "Marks Grade\n",
        "> 90 A\n",
        "> 80 and <= 90 B\n",
        ">= 60 and <= 80 C\n",
        "below 60 D"
      ]
    },
    {
      "cell_type": "code",
      "metadata": {
        "colab": {
          "base_uri": "https://localhost:8080/"
        },
        "id": "osz1Pj1mwSlA",
        "outputId": "b19c27c1-ce08-49f5-95bd-880b961139fb"
      },
      "source": [
        "a = int(input(\" Enter 1st subject = \"))\n",
        "b = int(input(\" Enter 2nd subject = \"))\n",
        "c = int(input(\" Enter 3rd subject = \"))\n",
        "d = int(input(\" Enter 4th subject = \"))\n",
        "\n",
        "t = a+b+c+d\n",
        "\n",
        "p = (t/400)*100\n",
        "\n",
        "if(p>90):\n",
        "  print(\" Grade = A \")\n",
        "elif(p>80 and p<=90):\n",
        "  print(\" Grade = B \")\n",
        "elif(p>=60 and p<=80):\n",
        "  print(\" Grade = c \")\n",
        "else:\n",
        "  print(\" Grade = D \")\n",
        "\n"
      ],
      "execution_count": null,
      "outputs": [
        {
          "output_type": "stream",
          "name": "stdout",
          "text": [
            " Enter 1st subject = 50\n",
            " Enter 2nd subject = 12\n",
            " Enter 3rd subject = 43\n",
            " Enter 4th subject = 27\n",
            " Grade = D \n"
          ]
        }
      ]
    }
  ]
}