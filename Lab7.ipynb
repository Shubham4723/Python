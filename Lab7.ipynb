{
  "nbformat": 4,
  "nbformat_minor": 0,
  "metadata": {
    "colab": {
      "name": "Lab7.ipynb",
      "provenance": [],
      "authorship_tag": "ABX9TyMDp9E8z2E+ssBNOvarTwz+",
      "include_colab_link": true
    },
    "kernelspec": {
      "name": "python3",
      "display_name": "Python 3"
    },
    "language_info": {
      "name": "python"
    }
  },
  "cells": [
    {
      "cell_type": "markdown",
      "metadata": {
        "id": "view-in-github",
        "colab_type": "text"
      },
      "source": [
        "<a href=\"https://colab.research.google.com/github/Shubham4723/Python/blob/main/Lab7.ipynb\" target=\"_parent\"><img src=\"https://colab.research.google.com/assets/colab-badge.svg\" alt=\"Open In Colab\"/></a>"
      ]
    },
    {
      "cell_type": "markdown",
      "metadata": {
        "id": "WBagZqzgfbQ2"
      },
      "source": [
        "Q.1) Write a python program to create a dictionary with a set of key value pair and fetch the value according to the specified key."
      ]
    },
    {
      "cell_type": "code",
      "metadata": {
        "colab": {
          "base_uri": "https://localhost:8080/"
        },
        "id": "9REFEDV4YBN-",
        "outputId": "b1c5f7c9-3336-4485-b2a4-889b433c0ae5"
      },
      "source": [
        "Dict1 = {\n",
        "          \"Mexico\" : \"Tacos\",\n",
        "          \"Japan\" : \"Sushi\",\n",
        "          \"Germany\" : \"Beer\",\n",
        "          \"England\" : \"Fish n chips\",\n",
        "          \"China\" : \"Bat soup\"\n",
        "}\n",
        "\n",
        "print(Dict1.get(\"Mexico\"))\n"
      ],
      "execution_count": null,
      "outputs": [
        {
          "output_type": "stream",
          "name": "stdout",
          "text": [
            "Tacos\n"
          ]
        }
      ]
    },
    {
      "cell_type": "markdown",
      "metadata": {
        "id": "17Xph5iijXx6"
      },
      "source": [
        "Q.2) Write a python program to create an empty dictionary and add the key value pairs to this dictionary."
      ]
    },
    {
      "cell_type": "code",
      "metadata": {
        "colab": {
          "base_uri": "https://localhost:8080/"
        },
        "id": "ktFCRtVXgVS-",
        "outputId": "60da87ab-5f16-467c-ca31-b970d04c228b"
      },
      "source": [
        "Dict2 = {}\n",
        "Dict2['Ireland'] = \"Dublin\"\n",
        "Dict2['Serbia'] = \"Belgrade\"\n",
        "Dict2['Norway'] = \"Oslo\"\n",
        "Dict2['Poland'] = \"Warsaw\"\n",
        "Dict2['Hungary'] = \"Budhapest\"\n",
        "print(Dict2)"
      ],
      "execution_count": null,
      "outputs": [
        {
          "output_type": "stream",
          "name": "stdout",
          "text": [
            "{'Ireland': 'Dublin', 'Serbia': 'Belgrade', 'Norway': 'Oslo', 'Poland': 'Warsaw', 'Hungary': 'Budhapest'}\n"
          ]
        }
      ]
    },
    {
      "cell_type": "markdown",
      "metadata": {
        "id": "T6UDHog4mxZA"
      },
      "source": [
        "Q.3) Write a python program to concatenate two dictionaries to create a new one."
      ]
    },
    {
      "cell_type": "code",
      "metadata": {
        "colab": {
          "base_uri": "https://localhost:8080/"
        },
        "id": "jm0WJV8CmPWI",
        "outputId": "1d927eab-5b8f-4a15-947a-773386e12f40"
      },
      "source": [
        "Dict1.update(Dict2)\n",
        "print(Dict1)"
      ],
      "execution_count": null,
      "outputs": [
        {
          "output_type": "stream",
          "name": "stdout",
          "text": [
            "{'Mexico': 'Tacos', 'Japan': 'Sushi', 'Germany': 'Beer', 'England': 'Fish n chips', 'China': 'Bat soup', 'Ireland': 'Dublin', 'Serbia': 'Belgrade', 'Norway': 'Oslo', 'Poland': 'Warsaw', 'Hungary': 'Budhapest'}\n"
          ]
        }
      ]
    },
    {
      "cell_type": "markdown",
      "metadata": {
        "id": "w5_4IibhnTf4"
      },
      "source": [
        "Q.4) Write a python program to remove a key from a dictionary."
      ]
    },
    {
      "cell_type": "code",
      "metadata": {
        "colab": {
          "base_uri": "https://localhost:8080/"
        },
        "id": "oFq0QHyno2ZK",
        "outputId": "374af6cb-08cc-4568-e1c2-ef1a0890163f"
      },
      "source": [
        "Dict1.pop('China')\n",
        "print(Dict1)"
      ],
      "execution_count": null,
      "outputs": [
        {
          "output_type": "stream",
          "name": "stdout",
          "text": [
            "{'Mexico': 'Tacos', 'Japan': 'Sushi', 'Germany': 'Beer', 'England': 'Fish n chips'}\n"
          ]
        }
      ]
    },
    {
      "cell_type": "markdown",
      "metadata": {
        "id": "PA0LnuWVpH2Z"
      },
      "source": [
        "Q.5) Write a python program to sort a dictionary by key."
      ]
    },
    {
      "cell_type": "code",
      "metadata": {
        "colab": {
          "base_uri": "https://localhost:8080/"
        },
        "id": "HjmZdHuIpDlV",
        "outputId": "4400d4cd-d037-49fa-f647-1c8a74c591e3"
      },
      "source": [
        "Dict1 = sorted(Dict1.items())\n",
        "print(Dict1)"
      ],
      "execution_count": null,
      "outputs": [
        {
          "output_type": "stream",
          "name": "stdout",
          "text": [
            "[('England', 'Fish n chips'), ('Germany', 'Beer'), ('Japan', 'Sushi'), ('Mexico', 'Tacos')]\n"
          ]
        }
      ]
    },
    {
      "cell_type": "markdown",
      "metadata": {
        "id": "5QT-D2T2pprI"
      },
      "source": [
        "Q.6) Write a python program to create a set and add some elements in it. Also try to add repeating elements, then print the set."
      ]
    },
    {
      "cell_type": "code",
      "metadata": {
        "colab": {
          "base_uri": "https://localhost:8080/"
        },
        "id": "tUuvQmVZpXcX",
        "outputId": "264a6a04-cc8d-4c6f-9123-b90f188ffa88"
      },
      "source": [
        "set1 = {1,2,3}\n",
        "print(set1)\n",
        "set1.add(4)\n",
        "set1.add(5)\n",
        "set1.add(5) # Repeated addition\n",
        "set1.add(6)\n",
        "print(set1)"
      ],
      "execution_count": null,
      "outputs": [
        {
          "output_type": "stream",
          "name": "stdout",
          "text": [
            "{1, 2, 3}\n",
            "{1, 2, 3, 4, 5, 6}\n"
          ]
        }
      ]
    },
    {
      "cell_type": "markdown",
      "metadata": {
        "id": "zGFTsooip9Ww"
      },
      "source": [
        "Q.7) Write a python program to add a tuple in an existing set and print the updated set. Also remove a specific element from the set and print.\n"
      ]
    },
    {
      "cell_type": "code",
      "metadata": {
        "colab": {
          "base_uri": "https://localhost:8080/"
        },
        "id": "GahwH3DVp7x7",
        "outputId": "31dbc0a0-9198-47b1-8d30-6a0810966317"
      },
      "source": [
        "\n",
        "set1.add((4,44,444))\n",
        "print(set1)\n",
        "set1.remove(2)\n",
        "print(set1)"
      ],
      "execution_count": null,
      "outputs": [
        {
          "output_type": "stream",
          "name": "stdout",
          "text": [
            "{1, 2, 3, (4, 44, 444)}\n",
            "{1, 3, (4, 44, 444)}\n"
          ]
        }
      ]
    },
    {
      "cell_type": "markdown",
      "metadata": {
        "id": "rhk_IqDTqM1I"
      },
      "source": [
        "Q.8) Write a python program to create a set which is a union of two sets.\n"
      ]
    },
    {
      "cell_type": "code",
      "metadata": {
        "colab": {
          "base_uri": "https://localhost:8080/"
        },
        "id": "N64T4kNMqKwi",
        "outputId": "cf920cf7-fff6-422d-c80a-cb2ac3d2a1d2"
      },
      "source": [
        "\n",
        "set2 = {3, 4, 5, 6}\n",
        "print(set1.union(set2))"
      ],
      "execution_count": null,
      "outputs": [
        {
          "output_type": "stream",
          "name": "stdout",
          "text": [
            "{1, 3, 4, 5, 6, (4, 44, 444)}\n"
          ]
        }
      ]
    },
    {
      "cell_type": "markdown",
      "metadata": {
        "id": "37hsdq1cqZEf"
      },
      "source": [
        "Q.9) Write a python program to check if a set is a subset of another set."
      ]
    },
    {
      "cell_type": "code",
      "metadata": {
        "colab": {
          "base_uri": "https://localhost:8080/"
        },
        "id": "WSlXit6nqT2U",
        "outputId": "4167a4f5-d0ad-44c2-9bf0-2d915cd62745"
      },
      "source": [
        "print(set1)\n",
        "print(set2)\n",
        "set3 = {1, 2, 3, 4, 5, 6}\n",
        "print(set1.issubset(set3))\n",
        "print(set2.issubset(set3))"
      ],
      "execution_count": null,
      "outputs": [
        {
          "output_type": "stream",
          "name": "stdout",
          "text": [
            "{1, 3, (4, 44, 444)}\n",
            "{3, 4, 5, 6}\n",
            "False\n",
            "True\n"
          ]
        }
      ]
    },
    {
      "cell_type": "code",
      "metadata": {
        "id": "ijNVL-K5qgQH"
      },
      "source": [
        ""
      ],
      "execution_count": null,
      "outputs": []
    }
  ]
}