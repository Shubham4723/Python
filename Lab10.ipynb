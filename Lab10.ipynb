{
  "nbformat": 4,
  "nbformat_minor": 0,
  "metadata": {
    "colab": {
      "name": "Lab10.ipynb",
      "provenance": [],
      "authorship_tag": "ABX9TyNpnwuWLBnRDDU1X1tTfjKp",
      "include_colab_link": true
    },
    "kernelspec": {
      "name": "python3",
      "display_name": "Python 3"
    },
    "language_info": {
      "name": "python"
    }
  },
  "cells": [
    {
      "cell_type": "markdown",
      "metadata": {
        "id": "view-in-github",
        "colab_type": "text"
      },
      "source": [
        "<a href=\"https://colab.research.google.com/github/Shubham4723/Python/blob/main/Lab10.ipynb\" target=\"_parent\"><img src=\"https://colab.research.google.com/assets/colab-badge.svg\" alt=\"Open In Colab\"/></a>"
      ]
    },
    {
      "cell_type": "markdown",
      "metadata": {
        "id": "nltqzN0KxMtB"
      },
      "source": [
        "Q.1) Write a python program to input the marks in 5 subjects of two students and find the percentage of this two students using user-defined function."
      ]
    },
    {
      "cell_type": "code",
      "metadata": {
        "colab": {
          "base_uri": "https://localhost:8080/"
        },
        "id": "65gzc8ZxxLqQ",
        "outputId": "7650d7a9-fb46-44a5-a007-4213f7569d03"
      },
      "source": [
        "def percentage(marks):\n",
        "  p =int((marks/500)*100)\n",
        "  return(p) \n",
        "\n",
        "\n",
        "a, b, c, d, e = 0, 0, 0, 0, 0 \n",
        "\n",
        "marks1 = [a, b, c, d, e]\n",
        "\n",
        "marks2 = [a, b, c, d, e]\n",
        "\n",
        "print(\" Enter marks of 5 subjects for 1st student = \")\n",
        "for i in range(0, len(marks1)):\n",
        "  marks1[i] = int(input(\"Enter the marks out of 100 : \"))\n",
        "\n",
        "print(\" Enter marks of 5 subjects for 2nd student = \")\n",
        "for i in range(0, len(marks2)):\n",
        "  marks2[i] = int(input(\"Enter the marks out of 100 : \"))\n",
        "\n",
        "tot1 = sum(marks1)\n",
        "tot2 = sum(marks2)\n",
        "\n",
        "percent1 = percentage(tot1)\n",
        "print(\" Percentage of 1st student = \", percent1)\n",
        "\n",
        "percent2 = percentage(tot2)\n",
        "print(\" Percentage of 2nd student = \", percent2)\n",
        "\n"
      ],
      "execution_count": null,
      "outputs": [
        {
          "output_type": "stream",
          "name": "stdout",
          "text": [
            " Enter marks of 5 subjects for 1st student = \n",
            "Enter the marks out of 100 : 90\n",
            "Enter the marks out of 100 : 80\n",
            "Enter the marks out of 100 : 70\n",
            "Enter the marks out of 100 : 80\n",
            "Enter the marks out of 100 : 90\n",
            " Enter marks of 5 subjects for 2nd student = \n",
            "Enter the marks out of 100 : 95\n",
            "Enter the marks out of 100 : 85\n",
            "Enter the marks out of 100 : 70\n",
            "Enter the marks out of 100 : 65\n",
            "Enter the marks out of 100 : 55\n",
            " Percentage of 1st student =  82\n",
            " Percentage of 2nd student =  74\n"
          ]
        }
      ]
    },
    {
      "cell_type": "markdown",
      "metadata": {
        "id": "bxdMlmzm0qUg"
      },
      "source": [
        "Q.2) Write a python program to find the factorial of a number using user-defined function."
      ]
    },
    {
      "cell_type": "code",
      "metadata": {
        "colab": {
          "base_uri": "https://localhost:8080/"
        },
        "id": "rrJeVoU3zdWy",
        "outputId": "9185a099-8e39-46f8-c338-f79b2e147e41"
      },
      "source": [
        "def fact(n):\n",
        "  p = 1\n",
        "  for i in range(1,n+1):\n",
        "    p = p * i\n",
        "\n",
        "  return(p)\n",
        "\n",
        "a = int(input(\" Enter a no = \"))\n",
        "f = fact(a)\n",
        "\n",
        "print(\" Factorial of input no = \", f)\n"
      ],
      "execution_count": null,
      "outputs": [
        {
          "output_type": "stream",
          "name": "stdout",
          "text": [
            " Enter a no = 5\n",
            " Factorial of input no =  120\n"
          ]
        }
      ]
    },
    {
      "cell_type": "markdown",
      "metadata": {
        "id": "XUYwXm6E1w89"
      },
      "source": [
        "Q.3) Write a python program to find LCM of two numbers using user-defined function."
      ]
    },
    {
      "cell_type": "code",
      "metadata": {
        "colab": {
          "base_uri": "https://localhost:8080/"
        },
        "id": "oFShOyPg1nYx",
        "outputId": "fdae2258-c4bb-46f4-dde4-1462c167dbd7"
      },
      "source": [
        "def lcm(a, b):\n",
        "   if a > b:\n",
        "       greater = a\n",
        "   else:\n",
        "       greater = b\n",
        "\n",
        "   while(True):\n",
        "       if((greater % a == 0) and (greater % b == 0)):\n",
        "           l = greater\n",
        "           break\n",
        "       greater += 1\n",
        "\n",
        "   return l\n",
        "\n",
        "x = int(input(\" Enter 1st no = \"))\n",
        "y = int(input(\" Enter 2nd no = \"))\n",
        "\n",
        "\n",
        "print(\"The L.C.M. is\", lcm(x, y))\n"
      ],
      "execution_count": null,
      "outputs": [
        {
          "output_type": "stream",
          "name": "stdout",
          "text": [
            " Enter 1st no = 24\n",
            " Enter 2nd no = 12\n",
            "The L.C.M. is 24\n"
          ]
        }
      ]
    },
    {
      "cell_type": "markdown",
      "metadata": {
        "id": "A8S6M9k53LoG"
      },
      "source": [
        "Q.4) Take a list of numbers as an input and write a Python function to sum all the numbers in a list."
      ]
    },
    {
      "cell_type": "code",
      "metadata": {
        "colab": {
          "base_uri": "https://localhost:8080/"
        },
        "id": "ATWImY7C20Fp",
        "outputId": "3a9d35a1-44a3-45b2-f1bc-98a8def91c9e"
      },
      "source": [
        "def add(a):\n",
        "  t = sum(a)\n",
        "  return(t)\n",
        "\n",
        "a, b, c, d, e = 0, 0, 0, 0, 0\n",
        "\n",
        "x = [a, b, c, d, e]\n",
        "\n",
        "for i in range(0, len(x)):\n",
        "  x[i] = int(input(\" Enter values for the list = \"))\n",
        "\n",
        "\n",
        "total = add(x)\n",
        "\n",
        "print(\" Summation of all the nos in the list = \", total)\n",
        "\n"
      ],
      "execution_count": null,
      "outputs": [
        {
          "output_type": "stream",
          "name": "stdout",
          "text": [
            " Enter values for the list = 2\n",
            " Enter values for the list = 3\n",
            " Enter values for the list = 4\n",
            " Enter values for the list = 5\n",
            " Enter values for the list = 6\n",
            " Summation of all the nos in the list =  20\n"
          ]
        }
      ]
    },
    {
      "cell_type": "markdown",
      "metadata": {
        "id": "ZoAoA4kw4PvO"
      },
      "source": [
        "Q.5) Write a python function to check if a number is prime or not."
      ]
    },
    {
      "cell_type": "code",
      "metadata": {
        "colab": {
          "base_uri": "https://localhost:8080/"
        },
        "id": "QU-yOgEe4Dej",
        "outputId": "f877877e-be65-4882-8e42-a9179f634590"
      },
      "source": [
        "def prime(a):\n",
        "  c = 0\n",
        "  for i in range(1, a+1):\n",
        "    if(a%i==0):\n",
        "      c+=1\n",
        "\n",
        "\n",
        "  if(c==2):\n",
        "    print(\" The no is prime \")\n",
        "  \n",
        "  else:\n",
        "    print(\" The no is not prime \")\n",
        "\n",
        "x = int(input(\" Enter a no = \"))\n",
        "prime(x)\n",
        "\n",
        "\n"
      ],
      "execution_count": null,
      "outputs": [
        {
          "output_type": "stream",
          "name": "stdout",
          "text": [
            " Enter a no = 20\n",
            " The no is not prime \n"
          ]
        }
      ]
    },
    {
      "cell_type": "markdown",
      "metadata": {
        "id": "fBePRsgK5XnM"
      },
      "source": [
        "Q.6) Write a Python program to square and cube every number in a given list of integers using user-defined function.\n",
        "Original list of integers: [1, 2, 3, 4, 5, 6, 7, 8, 9, 10]"
      ]
    },
    {
      "cell_type": "code",
      "metadata": {
        "colab": {
          "base_uri": "https://localhost:8080/"
        },
        "id": "Z-zI5zjM5H6v",
        "outputId": "1abed5d1-09d1-4945-8f5e-e1c19f54c128"
      },
      "source": [
        "def square(x):\n",
        "  m = []\n",
        "  for i in x:\n",
        "    m.append(i*i) \n",
        "\n",
        "  print(\" New list after squaring all nos = \", m)\n",
        "\n",
        "def cube(y):\n",
        "  n = []\n",
        "  for j in y:\n",
        "    n.append(j*j*j) \n",
        "\n",
        "  print(\" New list after cubing all nos = \", n)\n",
        "\n",
        "\n",
        "a = [1, 2, 3, 4, 5]\n",
        "\n",
        "s = square(a)\n",
        "c = cube(a)"
      ],
      "execution_count": null,
      "outputs": [
        {
          "output_type": "stream",
          "name": "stdout",
          "text": [
            " New list after squaring all nos =  [1, 4, 9, 16, 25]\n",
            " New list after cubing all nos =  [1, 8, 27, 64, 125]\n"
          ]
        }
      ]
    },
    {
      "cell_type": "markdown",
      "metadata": {
        "id": "0KkBn8MG7ZoV"
      },
      "source": [
        "Q.7) Write a Python program to input a string (consists of two or more than two words) and print it in abbreviation form except the last word/title using user defined function.\n",
        "Input: Sarat Kumar Pati\n",
        "Output: S.K. Pati"
      ]
    },
    {
      "cell_type": "code",
      "metadata": {
        "colab": {
          "base_uri": "https://localhost:8080/"
        },
        "id": "EAnBnCFe7O_b",
        "outputId": "9294c1cf-2103-472d-8354-ce442a7a4576"
      },
      "source": [
        "def name(s):\n",
        "  \n",
        "    l = s.split()\n",
        "    new = \"\"\n",
        "  \n",
        "    for i in range(len(l)-1):\n",
        "        s = l[i]\n",
        "        new += (s[0].upper()+'.')\n",
        "          \n",
        "    \n",
        "    new += l[-1].title()\n",
        "      \n",
        "    return new \n",
        "      \n",
        "       \n",
        "s = input(\" Enter name = \")\n",
        "print(name(s))  "
      ],
      "execution_count": null,
      "outputs": [
        {
          "output_type": "stream",
          "name": "stdout",
          "text": [
            " Enter name = Ram Mohan Das\n",
            "R.M.Das\n"
          ]
        }
      ]
    },
    {
      "cell_type": "code",
      "metadata": {
        "id": "XIkpKlcE73Tr"
      },
      "source": [
        ""
      ],
      "execution_count": null,
      "outputs": []
    }
  ]
}